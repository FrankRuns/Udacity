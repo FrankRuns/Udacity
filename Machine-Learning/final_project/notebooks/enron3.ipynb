{
 "cells": [
  {
   "cell_type": "code",
   "execution_count": 1,
   "metadata": {
    "collapsed": true
   },
   "outputs": [],
   "source": [
    "import pickle"
   ]
  },
  {
   "cell_type": "code",
   "execution_count": 2,
   "metadata": {
    "collapsed": true
   },
   "outputs": [],
   "source": [
    "data_dict = pickle.load(open(\"final_project_dataset.pkl\", \"r\") )"
   ]
  },
  {
   "cell_type": "code",
   "execution_count": 3,
   "metadata": {
    "collapsed": true
   },
   "outputs": [],
   "source": [
    "import pandas as pd"
   ]
  },
  {
   "cell_type": "code",
   "execution_count": 4,
   "metadata": {
    "collapsed": true
   },
   "outputs": [],
   "source": [
    "pdata = pd.DataFrame.from_dict(data_dict, orient='index')"
   ]
  },
  {
   "cell_type": "code",
   "execution_count": 5,
   "metadata": {
    "collapsed": true
   },
   "outputs": [],
   "source": [
    "import numpy as np"
   ]
  },
  {
   "cell_type": "code",
   "execution_count": 6,
   "metadata": {
    "collapsed": true
   },
   "outputs": [],
   "source": [
    "pdata = pdata.replace('NaN', np.nan, regex=True)"
   ]
  },
  {
   "cell_type": "code",
   "execution_count": 7,
   "metadata": {
    "collapsed": false
   },
   "outputs": [],
   "source": [
    "# New Nan related features\n",
    "temp = []\n",
    "for el in pdata['email_address'].values:\n",
    "    if type(el) == float:\n",
    "        temp.append(False)\n",
    "    else:\n",
    "        temp.append(True)\n",
    "pdata['has_email_data'] = temp\n",
    "pdata['total_navalue_count'] = pdata.isnull().sum(axis=1)\n",
    "pdata['sal_navalue_count'] = pdata[['salary', 'deferral_payments', 'long_term_incentive', 'total_payments', 'bonus', 'expenses', 'loan_advances', 'other', 'director_fees', 'deferred_income']].isnull().sum(axis=1)"
   ]
  },
  {
   "cell_type": "code",
   "execution_count": 8,
   "metadata": {
    "collapsed": true
   },
   "outputs": [],
   "source": [
    "# Dropping text columns and converting Nan to zero\n",
    "pdata = pdata.drop('email_address', 1)\n",
    "pdata = pdata.replace(np.nan, 0, regex=True)"
   ]
  },
  {
   "cell_type": "code",
   "execution_count": 9,
   "metadata": {
    "collapsed": true
   },
   "outputs": [],
   "source": [
    "# Removing outliers\n",
    "pdata = pdata[pdata.index != 'TOTAL']\n",
    "pdata = pdata[pdata.index != 'SKILLING JEFFREY K']\n",
    "pdata = pdata[pdata.index != 'BELFER ROBERT']\n",
    "pdata = pdata[pdata.index != 'BHATNAGAR SANJAY']"
   ]
  },
  {
   "cell_type": "code",
   "execution_count": 10,
   "metadata": {
    "collapsed": true
   },
   "outputs": [],
   "source": [
    "# New non-Nan related features\n",
    "pdata['short_gain'] = pdata['exercised_stock_options'] - pdata['long_term_incentive']\n",
    "pdata['sal_ratio'] = (pdata['bonus'] + pdata['long_term_incentive'] + pdata['expenses']) / pdata['total_payments']\n",
    "pdata['stock_ratio'] = pdata['restricted_stock'] / pdata['total_stock_value']\n",
    "pdata['em_ratio'] = (pdata['shared_receipt_with_poi'] + pdata['from_this_person_to_poi'] + pdata['from_poi_to_this_person'] ) / (pdata['to_messages'] + pdata['from_messages'])\n",
    "pdata['total_total'] = pdata['total_payments'] + pdata['total_stock_value']\n",
    "pdata['from_ratio'] = pdata['from_this_person_to_poi'] / pdata['from_messages']\n",
    "pdata['sent_ratio'] = (pdata['from_poi_to_this_person'] + pdata['shared_receipt_with_poi']) / pdata['to_messages']"
   ]
  },
  {
   "cell_type": "code",
   "execution_count": 11,
   "metadata": {
    "collapsed": true
   },
   "outputs": [],
   "source": [
    "import matplotlib.pyplot as plt\n",
    "%matplotlib inline\n",
    "# import seaborn as sns\n",
    "# sns.set(color_codes=True)"
   ]
  },
  {
   "cell_type": "code",
   "execution_count": 12,
   "metadata": {
    "collapsed": false
   },
   "outputs": [],
   "source": [
    "# # First look at monetary relationships...\n",
    "# gr = pdata.copy()\n",
    "# gr['total_total'] = map(lambda x: np.sqrt(x), gr['total_total'])\n",
    "# gr['sal_ratio'] = map(lambda x: np.sqrt(x), gr['sal_ratio'])\n",
    "# gr['stock_ratio'] = map(lambda x: np.sqrt(x), gr['stock_ratio'])\n",
    "# gr['to_messages'] = map(lambda x: np.sqrt(x), gr['to_messages'])\n",
    "# els1 = ['total_total', 'sal_ratio', 'stock_ratio', 'to_messages']\n",
    "# scatter_matrix = gr\n",
    "# g = sns.pairplot(scatter_matrix[:], vars=els1, hue=\"poi\", size=1.5)"
   ]
  },
  {
   "cell_type": "code",
   "execution_count": 13,
   "metadata": {
    "collapsed": true
   },
   "outputs": [],
   "source": [
    "# Back into dictionary\n",
    "pdata = pdata.replace(np.nan, 0, regex=True)\n",
    "pdata = pdata.replace(np.inf, 0, regex=True)\n",
    "pdata = pdata.replace(-np.inf, 0, regex=True)\n",
    "pdict = pdata.T.to_dict()"
   ]
  },
  {
   "cell_type": "code",
   "execution_count": 14,
   "metadata": {
    "collapsed": true
   },
   "outputs": [],
   "source": [
    "import sys\n",
    "sys.path.append(\"../tools/\")\n",
    "from feature_format import featureFormat, targetFeatureSplit"
   ]
  },
  {
   "cell_type": "code",
   "execution_count": 18,
   "metadata": {
    "collapsed": false
   },
   "outputs": [],
   "source": [
    "features_list = ['poi', 'salary', 'to_messages', 'deferral_payments', \n",
    "                 'total_payments', 'exercised_stock_options', 'bonus', \n",
    "                 'restricted_stock', 'shared_receipt_with_poi', 'restricted_stock_deferred', \n",
    "                 'total_stock_value', 'expenses', 'from_messages', \n",
    "                 'other', 'from_this_person_to_poi', 'director_fees',\n",
    "                 'deferred_income', 'long_term_incentive', 'from_poi_to_this_person',\n",
    "                 'from_ratio', 'sent_ratio', 'sal_ratio', 'stock_ratio', \n",
    "                 'em_ratio', 'has_email_data', 'total_navalue_count', 'sal_navalue_count',\n",
    "                 'total_total', 'short_gain']"
   ]
  },
  {
   "cell_type": "code",
   "execution_count": 19,
   "metadata": {
    "collapsed": false
   },
   "outputs": [],
   "source": [
    "my_dataset = pdict\n",
    "data = featureFormat(my_dataset, features_list, sort_keys = True)\n",
    "labels, features = targetFeatureSplit(data)"
   ]
  },
  {
   "cell_type": "code",
   "execution_count": 20,
   "metadata": {
    "collapsed": true
   },
   "outputs": [],
   "source": [
    "from sklearn.preprocessing import MinMaxScaler\n",
    "scaler = MinMaxScaler()\n",
    "features = scaler.fit_transform(features)"
   ]
  },
  {
   "cell_type": "code",
   "execution_count": 21,
   "metadata": {
    "collapsed": true
   },
   "outputs": [],
   "source": [
    "from sklearn.cross_validation import train_test_split\n",
    "features_train, features_test, labels_train, labels_test = \\\n",
    "    train_test_split(features, labels, test_size=0.3, random_state=42)"
   ]
  },
  {
   "cell_type": "code",
   "execution_count": 22,
   "metadata": {
    "collapsed": false
   },
   "outputs": [],
   "source": [
    "from sklearn.feature_selection import SelectKBest\n",
    "x_new = SelectKBest(k=12)\n",
    "x_new.fit_transform(features_train, labels_train)\n",
    "best = []\n",
    "for i in range(len(x_new.get_support())):\n",
    "    if x_new.get_support()[i]:\n",
    "        best.append(features_list[i+1])"
   ]
  },
  {
   "cell_type": "code",
   "execution_count": 23,
   "metadata": {
    "collapsed": false
   },
   "outputs": [
    {
     "data": {
      "text/plain": [
       "['poi',\n",
       " 'salary',\n",
       " 'bonus',\n",
       " 'shared_receipt_with_poi',\n",
       " 'expenses',\n",
       " 'deferred_income',\n",
       " 'from_ratio',\n",
       " 'sent_ratio',\n",
       " 'sal_ratio',\n",
       " 'em_ratio',\n",
       " 'total_navalue_count',\n",
       " 'sal_navalue_count',\n",
       " 'total_total']"
      ]
     },
     "execution_count": 23,
     "metadata": {},
     "output_type": "execute_result"
    }
   ],
   "source": [
    "features_list = ['poi']\n",
    "for el in best:\n",
    "    features_list.append(el)\n",
    "features_list"
   ]
  },
  {
   "cell_type": "code",
   "execution_count": 24,
   "metadata": {
    "collapsed": false
   },
   "outputs": [],
   "source": [
    "my_dataset = pdict\n",
    "data = featureFormat(my_dataset, features_list, sort_keys = True)\n",
    "labels, features = targetFeatureSplit(data)"
   ]
  },
  {
   "cell_type": "code",
   "execution_count": 25,
   "metadata": {
    "collapsed": false
   },
   "outputs": [],
   "source": [
    "from sklearn.cross_validation import train_test_split\n",
    "features_train, features_test, labels_train, labels_test = \\\n",
    "    train_test_split(features, labels, test_size=0.3, random_state=42)"
   ]
  },
  {
   "cell_type": "code",
   "execution_count": 26,
   "metadata": {
    "collapsed": true
   },
   "outputs": [],
   "source": [
    "# Logistic Regression"
   ]
  },
  {
   "cell_type": "code",
   "execution_count": 27,
   "metadata": {
    "collapsed": false
   },
   "outputs": [
    {
     "name": "stdout",
     "output_type": "stream",
     "text": [
      "Test Accuracy: 0.884\n"
     ]
    }
   ],
   "source": [
    "from sklearn.preprocessing import StandardScaler\n",
    "from sklearn.decomposition import PCA\n",
    "from sklearn.linear_model import LogisticRegression\n",
    "from sklearn.pipeline import Pipeline\n",
    "pipe_lr = Pipeline([('scl', StandardScaler()),\n",
    "                    ('pca', PCA(n_components=2)),\n",
    "                    ('clf', LogisticRegression(random_state=1, \n",
    "                                               penalty='l2',\n",
    "                                               C=1.0))])\n",
    "pipe_lr.fit(features_train, labels_train)\n",
    "print('Test Accuracy: %.3f' % pipe_lr.score(features_test, labels_test))"
   ]
  },
  {
   "cell_type": "code",
   "execution_count": 28,
   "metadata": {
    "collapsed": false
   },
   "outputs": [
    {
     "name": "stdout",
     "output_type": "stream",
     "text": [
      "CV accuracy scores: [ 0.81818182  0.90909091  0.8         1.          0.8         0.9         0.9\n",
      "  0.88888889  0.88888889  0.88888889]\n",
      "CV accuracy: 0.879 +/- 0.057\n"
     ]
    }
   ],
   "source": [
    "from sklearn.cross_validation import cross_val_score\n",
    "scores = cross_val_score( estimator = pipe_lr, X = features_train, y = labels_train, cv = 10, n_jobs = 1)\n",
    "print('CV accuracy scores: %s' % scores)\n",
    "print('CV accuracy: %.3f +/- %.3f' % (np.mean(scores), np.std(scores)))"
   ]
  },
  {
   "cell_type": "code",
   "execution_count": 697,
   "metadata": {
    "collapsed": true
   },
   "outputs": [],
   "source": [
    "# SVM"
   ]
  },
  {
   "cell_type": "code",
   "execution_count": 29,
   "metadata": {
    "collapsed": false
   },
   "outputs": [
    {
     "name": "stdout",
     "output_type": "stream",
     "text": [
      "0.87145222719\n",
      "{'clf__gamma': 1.0, 'clf__C': 1000.0, 'clf__kernel': 'rbf'}\n"
     ]
    },
    {
     "name": "stderr",
     "output_type": "stream",
     "text": [
      "/Users/frankcorrigan/anaconda3/envs/python2/lib/python2.7/site-packages/sklearn/metrics/classification.py:958: UndefinedMetricWarning: F-score is ill-defined and being set to 0.0 in labels with no predicted samples.\n",
      "  'precision', 'predicted', average, warn_for)\n",
      "/Users/frankcorrigan/anaconda3/envs/python2/lib/python2.7/site-packages/sklearn/metrics/classification.py:958: UndefinedMetricWarning: F-score is ill-defined and being set to 0.0 in labels with no predicted samples.\n",
      "  'precision', 'predicted', average, warn_for)\n",
      "/Users/frankcorrigan/anaconda3/envs/python2/lib/python2.7/site-packages/sklearn/metrics/classification.py:958: UndefinedMetricWarning: F-score is ill-defined and being set to 0.0 in labels with no predicted samples.\n",
      "  'precision', 'predicted', average, warn_for)\n",
      "/Users/frankcorrigan/anaconda3/envs/python2/lib/python2.7/site-packages/sklearn/metrics/classification.py:958: UndefinedMetricWarning: F-score is ill-defined and being set to 0.0 in labels with no predicted samples.\n",
      "  'precision', 'predicted', average, warn_for)\n"
     ]
    }
   ],
   "source": [
    "from sklearn.grid_search import GridSearchCV\n",
    "from sklearn.svm import SVC\n",
    "pipe_svc = Pipeline([('scl', StandardScaler()),\n",
    "                     ('pca', PCA(n_components=2)),\n",
    "                     ('clf', SVC(random_state=1))])\n",
    "param_range = [0.0001, 0.001, 0.01, 1.0, 10.0, 100.0, 1000.0]\n",
    "param_grid = [{'clf__C': param_range,\n",
    "               'clf__kernel': ['linear']},\n",
    "              {'clf__C': param_range,\n",
    "               'clf__gamma': param_range,\n",
    "               'clf__kernel': ['rbf']}]\n",
    "gs = GridSearchCV(estimator=pipe_svc,\n",
    "                  param_grid = param_grid,\n",
    "                  scoring = 'f1_weighted',\n",
    "                  n_jobs=-1)\n",
    "gs = gs.fit(features_train, labels_train)\n",
    "print(gs.best_score_)\n",
    "print(gs.best_params_)"
   ]
  },
  {
   "cell_type": "code",
   "execution_count": 30,
   "metadata": {
    "collapsed": false
   },
   "outputs": [
    {
     "name": "stdout",
     "output_type": "stream",
     "text": [
      "CV accuracy scores: [ 0.81818182  0.81818182  0.9         0.9         0.9         0.9         0.9\n",
      "  0.88888889  0.88888889  0.88888889]\n",
      "CV accuracy: 0.880 +/- 0.031\n",
      "('precision: ', 0.33333333333333331)\n",
      "('recall: ', 0.40000000000000002)\n",
      "('f1: ', 0.36363636363636359)\n"
     ]
    }
   ],
   "source": [
    "from sklearn.cross_validation import cross_val_score\n",
    "scores = cross_val_score( estimator = pipe_svc, X = features_train, y = labels_train, cv = 10, n_jobs = 1)\n",
    "print('CV accuracy scores: %s' % scores)\n",
    "print('CV accuracy: %.3f +/- %.3f' % (np.mean(scores), np.std(scores)))\n",
    "\n",
    "from sklearn.metrics import accuracy_score, f1_score, confusion_matrix, precision_score, recall_score\n",
    "clf = gs.best_estimator_\n",
    "clf.fit(features_train, labels_train)\n",
    "print('precision: ', precision_score(labels_test, clf.predict(features_test)))\n",
    "print('recall: ', recall_score(labels_test, clf.predict(features_test)))\n",
    "print('f1: ', f1_score(labels_test, clf.predict(features_test)))"
   ]
  },
  {
   "cell_type": "code",
   "execution_count": 615,
   "metadata": {
    "collapsed": true
   },
   "outputs": [],
   "source": [
    "# Random Forest"
   ]
  },
  {
   "cell_type": "code",
   "execution_count": 32,
   "metadata": {
    "collapsed": false
   },
   "outputs": [
    {
     "name": "stdout",
     "output_type": "stream",
     "text": [
      "0.933271413829\n",
      "{'clf__criterion': 'entropy', 'clf__min_samples_split': 2}\n"
     ]
    },
    {
     "name": "stderr",
     "output_type": "stream",
     "text": [
      "/Users/frankcorrigan/anaconda3/envs/python2/lib/python2.7/site-packages/sklearn/metrics/classification.py:958: UndefinedMetricWarning: F-score is ill-defined and being set to 0.0 in labels with no predicted samples.\n",
      "  'precision', 'predicted', average, warn_for)\n",
      "/Users/frankcorrigan/anaconda3/envs/python2/lib/python2.7/site-packages/sklearn/metrics/classification.py:958: UndefinedMetricWarning: F-score is ill-defined and being set to 0.0 in labels with no predicted samples.\n",
      "  'precision', 'predicted', average, warn_for)\n",
      "/Users/frankcorrigan/anaconda3/envs/python2/lib/python2.7/site-packages/sklearn/metrics/classification.py:958: UndefinedMetricWarning: F-score is ill-defined and being set to 0.0 in labels with no predicted samples.\n",
      "  'precision', 'predicted', average, warn_for)\n",
      "/Users/frankcorrigan/anaconda3/envs/python2/lib/python2.7/site-packages/sklearn/metrics/classification.py:958: UndefinedMetricWarning: F-score is ill-defined and being set to 0.0 in labels with no predicted samples.\n",
      "  'precision', 'predicted', average, warn_for)\n"
     ]
    }
   ],
   "source": [
    "from sklearn.grid_search import GridSearchCV\n",
    "from sklearn.ensemble import RandomForestClassifier\n",
    "from sklearn.cross_validation import StratifiedShuffleSplit\n",
    "pipe_rfc = Pipeline([('scl', MinMaxScaler()),\n",
    "                     ('pca', PCA(n_components=2)),\n",
    "                     ('clf', RandomForestClassifier(n_estimators=100,\n",
    "                                                    random_state=1))])\n",
    "cv = StratifiedShuffleSplit(labels_train, n_iter=10, random_state = 42)\n",
    "mss_range = [2, 10, 20, 30, 40]\n",
    "param_grid = [{'clf__min_samples_split': mss_range,\n",
    "               'clf__criterion': ['entropy', 'gini']}]\n",
    "gs = GridSearchCV(estimator=pipe_rfc,\n",
    "                  param_grid = param_grid,\n",
    "                  scoring = 'f1_weighted',\n",
    "                  cv = cv,\n",
    "                  n_jobs=-1)\n",
    "gs = gs.fit(features_train, labels_train)\n",
    "print(gs.best_score_)\n",
    "print(gs.best_params_)"
   ]
  },
  {
   "cell_type": "code",
   "execution_count": 33,
   "metadata": {
    "collapsed": false,
    "scrolled": true
   },
   "outputs": [
    {
     "name": "stdout",
     "output_type": "stream",
     "text": [
      "Test accuracy: 0.884\n",
      "Test precision: 0.200\n",
      "Test recall: 0.500\n",
      "Test F1: 0.286\n"
     ]
    }
   ],
   "source": [
    "from sklearn.metrics import accuracy_score, f1_score, confusion_matrix, precision_score, recall_score\n",
    "clf = gs.best_estimator_\n",
    "clf.fit(features_train, labels_train)\n",
    "print('Test accuracy: %.3f' % clf.score(features_test, labels_test))\n",
    "print('Test precision: %.3f' % precision_score(clf.predict(features_test), labels_test))\n",
    "print('Test recall: %.3f' % recall_score(clf.predict(features_test), labels_test))\n",
    "print('Test F1: %.3f' % f1_score(clf.predict(features_test), labels_test))"
   ]
  },
  {
   "cell_type": "code",
   "execution_count": null,
   "metadata": {
    "collapsed": true
   },
   "outputs": [],
   "source": [
    "# Adaboost"
   ]
  },
  {
   "cell_type": "code",
   "execution_count": 34,
   "metadata": {
    "collapsed": false
   },
   "outputs": [],
   "source": [
    "from sklearn.grid_search import GridSearchCV\n",
    "from sklearn.ensemble import RandomForestClassifier, AdaBoostClassifier\n",
    "pipe_rfc = Pipeline([('scl', StandardScaler()),\n",
    "                     ('pca', PCA(n_components=3)),\n",
    "                     ('clf', AdaBoostClassifier(RandomForestClassifier(\n",
    "                                                n_estimators=100,\n",
    "                                                criterion='entropy',\n",
    "                                                min_samples_split=40,\n",
    "                                                random_state=1)))])\n",
    "clf = pipe_rfc.fit(features_train, labels_train)"
   ]
  },
  {
   "cell_type": "code",
   "execution_count": 37,
   "metadata": {
    "collapsed": false
   },
   "outputs": [
    {
     "name": "stdout",
     "output_type": "stream",
     "text": [
      "CV accuracy scores: [ 0.72727273  0.72727273  0.8         0.9         0.8         0.9         0.9\n",
      "  0.88888889  0.88888889  0.88888889]\n",
      "CV accuracy: 0.842 +/- 0.068\n",
      "Test precision: 0.200\n",
      "Test recall: 0.333\n",
      "Test F1: 0.250\n"
     ]
    }
   ],
   "source": [
    "# scores = cross_val_score( estimator = pipe_rfc, X = features_train, y = labels_train, cv = 10, n_jobs = 1)\n",
    "# print('CV accuracy scores: %s' % scores)\n",
    "# print('CV accuracy: %.3f +/- %.3f' % (np.mean(scores), np.std(scores)))\n",
    "\n",
    "scores = cross_val_score(clf, features_train, labels_train, cv=10, scoring='accuracy')\n",
    "print('CV accuracy scores: %s' % scores)\n",
    "print('CV accuracy: %.3f +/- %.3f' % (np.mean(scores), np.std(scores)))\n",
    "\n",
    "print('Test precision: %.3f' % precision_score(clf.predict(features_test), labels_test))\n",
    "print('Test recall: %.3f' % recall_score(clf.predict(features_test), labels_test))\n",
    "print('Test F1: %.3f' % f1_score(clf.predict(features_test), labels_test))"
   ]
  },
  {
   "cell_type": "code",
   "execution_count": null,
   "metadata": {
    "collapsed": true
   },
   "outputs": [],
   "source": [
    "# K Nearest Neighbors"
   ]
  },
  {
   "cell_type": "code",
   "execution_count": 39,
   "metadata": {
    "collapsed": false
   },
   "outputs": [
    {
     "name": "stdout",
     "output_type": "stream",
     "text": [
      "Test accuracy: 0.879\n",
      "Test precision: 0.000\n",
      "Test recall: 0.000\n",
      "Test F1: 0.000\n"
     ]
    }
   ],
   "source": [
    "from sklearn.ensemble import BaggingClassifier\n",
    "from sklearn.neighbors import KNeighborsClassifier\n",
    "clf = BaggingClassifier(KNeighborsClassifier(),\n",
    "                            max_samples=0.5, max_features=0.5)\n",
    "pipe_knn = Pipeline([('scl', StandardScaler()),\n",
    "                     ('clf', clf)])\n",
    "pipe_knn.fit(features_train, labels_train)\n",
    "print('Test accuracy: %.3f' % clf.score(features_test, labels_test))\n",
    "print('Test precision: %.3f' % precision_score(clf.predict(features_test), labels_test))\n",
    "print('Test recall: %.3f' % recall_score(clf.predict(features_test), labels_test))\n",
    "print('Test F1: %.3f' % f1_score(clf.predict(features_test), labels_test))"
   ]
  },
  {
   "cell_type": "code",
   "execution_count": null,
   "metadata": {
    "collapsed": true
   },
   "outputs": [],
   "source": [
    "# Decision Tree"
   ]
  },
  {
   "cell_type": "code",
   "execution_count": 40,
   "metadata": {
    "collapsed": false,
    "scrolled": true
   },
   "outputs": [
    {
     "name": "stdout",
     "output_type": "stream",
     "text": [
      "0.933271413829\n",
      "{'clf__criterion': 'entropy', 'clf__min_samples_split': 20}\n"
     ]
    }
   ],
   "source": [
    "from sklearn.grid_search import GridSearchCV\n",
    "from sklearn.tree import DecisionTreeClassifier\n",
    "from sklearn.cross_validation import StratifiedShuffleSplit\n",
    "pipe_dtc = Pipeline([('scl', MinMaxScaler()),\n",
    "                     ('pca', PCA(n_components=5)),\n",
    "                     ('clf', DecisionTreeClassifier(random_state=1))])\n",
    "cv = StratifiedShuffleSplit(labels_train, n_iter=10, random_state = 42)\n",
    "mss_range = [2, 10, 20, 30, 40]\n",
    "param_grid = [{'clf__min_samples_split': mss_range,\n",
    "               'clf__criterion': ['entropy', 'gini']}]\n",
    "gs = GridSearchCV(estimator=pipe_dtc,\n",
    "                  param_grid = param_grid,\n",
    "                  scoring = 'f1_weighted',\n",
    "                  cv = cv,\n",
    "                  n_jobs=-1)\n",
    "clf = gs.fit(features_train, labels_train)\n",
    "print(clf.best_score_)\n",
    "print(clf.best_params_)"
   ]
  },
  {
   "cell_type": "code",
   "execution_count": 41,
   "metadata": {
    "collapsed": false
   },
   "outputs": [
    {
     "name": "stdout",
     "output_type": "stream",
     "text": [
      "Test accuracy: 0.878\n",
      "Test precision: 0.400\n",
      "Test recall: 0.500\n",
      "Test F1: 0.444\n"
     ]
    },
    {
     "name": "stderr",
     "output_type": "stream",
     "text": [
      "/Users/frankcorrigan/anaconda3/envs/python2/lib/python2.7/site-packages/sklearn/grid_search.py:370: ChangedBehaviorWarning: The long-standing behavior to use the estimator's score function in GridSearchCV.score has changed. The scoring parameter is now used.\n",
      "  ChangedBehaviorWarning)\n"
     ]
    }
   ],
   "source": [
    "print('Test accuracy: %.3f' % clf.score(features_test, labels_test))\n",
    "print('Test precision: %.3f' % precision_score(clf.predict(features_test), labels_test))\n",
    "print('Test recall: %.3f' % recall_score(clf.predict(features_test), labels_test))\n",
    "print('Test F1: %.3f' % f1_score(clf.predict(features_test), labels_test))"
   ]
  },
  {
   "cell_type": "code",
   "execution_count": null,
   "metadata": {
    "collapsed": true
   },
   "outputs": [],
   "source": []
  }
 ],
 "metadata": {
  "kernelspec": {
   "display_name": "Python 2",
   "language": "python",
   "name": "python2"
  },
  "language_info": {
   "codemirror_mode": {
    "name": "ipython",
    "version": 2
   },
   "file_extension": ".py",
   "mimetype": "text/x-python",
   "name": "python",
   "nbconvert_exporter": "python",
   "pygments_lexer": "ipython2",
   "version": "2.7.10"
  }
 },
 "nbformat": 4,
 "nbformat_minor": 0
}
