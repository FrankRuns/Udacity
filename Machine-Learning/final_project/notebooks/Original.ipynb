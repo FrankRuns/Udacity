{
 "cells": [
  {
   "cell_type": "code",
   "execution_count": 1,
   "metadata": {
    "collapsed": false
   },
   "outputs": [
    {
     "name": "stdout",
     "output_type": "stream",
     "text": [
      "/Users/frankcorrigan/Repositories/Udacity/Machine-Learning/final_project/submission\n"
     ]
    }
   ],
   "source": [
    "cd /Users/frankcorrigan/Repositories/Udacity/Machine-Learning/final_project/submission/"
   ]
  },
  {
   "cell_type": "code",
   "execution_count": 2,
   "metadata": {
    "collapsed": false
   },
   "outputs": [],
   "source": [
    "import pickle\n",
    "data_dict = pickle.load(open(\"final_project_dataset.pkl\", \"r\") )"
   ]
  },
  {
   "cell_type": "code",
   "execution_count": 3,
   "metadata": {
    "collapsed": true
   },
   "outputs": [],
   "source": [
    "import pandas as pd\n",
    "import numpy as np\n",
    "odata = pd.DataFrame.from_dict(data_dict, orient='index')"
   ]
  },
  {
   "cell_type": "code",
   "execution_count": 4,
   "metadata": {
    "collapsed": true
   },
   "outputs": [],
   "source": [
    "odata = odata.replace('NaN', 0, regex=True)"
   ]
  },
  {
   "cell_type": "code",
   "execution_count": 5,
   "metadata": {
    "collapsed": true
   },
   "outputs": [],
   "source": [
    "# pdata.loc['BELFER ROBERT']\n",
    "odata.loc['BELFER ROBERT', 'expenses'] = 3285.0\n",
    "odata.loc['BELFER ROBERT', 'deferral_payments'] = 0.0\n",
    "odata.loc['BELFER ROBERT', 'deferred_income'] = -102500.0\n",
    "odata.loc['BELFER ROBERT', 'director_fees'] = 102500.0\n",
    "odata.loc['BELFER ROBERT', 'total_payments'] = 3285.0\n",
    "# pdata.loc['BHATNAGAR SANJAY']\n",
    "odata.loc['BHATNAGAR SANJAY', 'expenses'] = 137864.0\n",
    "odata.loc['BHATNAGAR SANJAY', 'total_payments'] = 137864.0\n",
    "odata.loc['BHATNAGAR SANJAY', 'other'] = 0.0\n",
    "odata.loc['BHATNAGAR SANJAY', 'director_fees'] = 0.0"
   ]
  },
  {
   "cell_type": "code",
   "execution_count": 6,
   "metadata": {
    "collapsed": true
   },
   "outputs": [],
   "source": [
    "odata = odata.drop('email_address', 1)"
   ]
  },
  {
   "cell_type": "code",
   "execution_count": 7,
   "metadata": {
    "collapsed": true
   },
   "outputs": [],
   "source": [
    "odata = odata[odata.index != 'TOTAL']"
   ]
  },
  {
   "cell_type": "code",
   "execution_count": 8,
   "metadata": {
    "collapsed": true
   },
   "outputs": [],
   "source": [
    "odata = odata.replace(np.nan, 0, regex=True)\n",
    "odata = odata.replace(np.inf, 0, regex=True)\n",
    "odata = odata.replace(-np.inf, 0, regex=True)\n",
    "odict = odata.T.to_dict()"
   ]
  },
  {
   "cell_type": "code",
   "execution_count": 9,
   "metadata": {
    "collapsed": true
   },
   "outputs": [],
   "source": [
    "import sys\n",
    "sys.path.append(\"../tools/\")\n",
    "from feature_format import featureFormat, targetFeatureSplit"
   ]
  },
  {
   "cell_type": "code",
   "execution_count": 10,
   "metadata": {
    "collapsed": true
   },
   "outputs": [],
   "source": [
    "from sklearn.preprocessing import MinMaxScaler\n",
    "from sklearn.cross_validation import train_test_split\n",
    "from sklearn.preprocessing import StandardScaler\n",
    "from sklearn.feature_selection import SelectKBest, f_classif"
   ]
  },
  {
   "cell_type": "code",
   "execution_count": 11,
   "metadata": {
    "collapsed": false
   },
   "outputs": [],
   "source": [
    "# Declare original feature list\n",
    "features_list = ['poi']\n",
    "for el in odata.columns:\n",
    "    if el not in ['poi']:\n",
    "        features_list.append(el)"
   ]
  },
  {
   "cell_type": "code",
   "execution_count": 21,
   "metadata": {
    "collapsed": false
   },
   "outputs": [],
   "source": [
    "from sklearn.pipeline import Pipeline\n",
    "from sklearn.neighbors import KNeighborsClassifier\n",
    "from sklearn.linear_model import LogisticRegression\n",
    "from sklearn.svm import LinearSVC\n",
    "from sklearn.svm import SVC\n",
    "from sklearn.tree import DecisionTreeClassifier\n",
    "\n",
    "models = {'knn'       : {'model' : KNeighborsClassifier(),\n",
    "                         'pipe'  : Pipeline([['sc', StandardScaler()],\n",
    "                                             ['clf', KNeighborsClassifier()]]),\n",
    "                         'params': [{'clf__weights': ['uniform', 'distance'],\n",
    "                                     'clf__n_neighbors': range(2,6)}]},\n",
    "          'lr'        : {'model' : LogisticRegression(),\n",
    "                         'pipe'  : Pipeline([['sc', StandardScaler()],\n",
    "                                             ['clf', LogisticRegression()]]),\n",
    "                         'params': [{'clf__C': [0.001, 0.01, 0.1, 1, 10, 100, 1000]}]},\n",
    "          'linSVC'    : {'model' : LinearSVC(),\n",
    "                         'pipe'  : Pipeline([['sc', StandardScaler()],\n",
    "                                             ['clf', LinearSVC()]]),\n",
    "                         'params': [{'clf__C': [0.001, 0.01, 0.1, 1, 10, 100, 1000]}]},\n",
    "          'kernelSVC' : {'model' : SVC(),\n",
    "                         'pipe'  : Pipeline([['sc', StandardScaler()],\n",
    "                                             ['clf', SVC()]]),\n",
    "                         'params': [{'clf__C': [0.001, 0.01, 0.1, 1, 10, 100, 1000],\n",
    "                                     'clf__gamma': [0.0001, 0.001, 0.01, 0.1, 0.0, 1.0]}]},\n",
    "          'decTree'   : {'model' : DecisionTreeClassifier(),\n",
    "                         'pipe'  : Pipeline([['sc', MinMaxScaler()],\n",
    "                                             ['clf', DecisionTreeClassifier()]]),\n",
    "                         'params': [{'clf__min_samples_split': [2, 10, 20, 30, 40, 50, 60],\n",
    "                                     'clf__criterion': ['entropy', 'gini']}]}          \n",
    "          }\n",
    "#                'pca__whiten': [False,True],\n",
    "#                'pca__n_components': pca_range"
   ]
  },
  {
   "cell_type": "code",
   "execution_count": 14,
   "metadata": {
    "collapsed": true
   },
   "outputs": [],
   "source": [
    "def getBest(featureList):\n",
    "    # Prep dataset\n",
    "    my_dataset = odict.copy()\n",
    "    data = featureFormat(my_dataset, featureList, sort_keys = True)\n",
    "    labels, features = targetFeatureSplit(data)\n",
    "    # Scale the data\n",
    "    scaler = StandardScaler()\n",
    "    features = scaler.fit_transform(features)\n",
    "    # Run SelectKBest\n",
    "    x_new = SelectKBest(f_classif, k='all')\n",
    "    x_new.fit_transform(features, labels)\n",
    "    # Order best elements into a featurelist\n",
    "    best = []\n",
    "    for i in range(len(x_new.scores_)):\n",
    "        best.append((featureList[i+1], x_new.scores_[i]))\n",
    "\n",
    "    best = sorted(best,key=lambda x: x[1], reverse=True)\n",
    "\n",
    "    bestList = ['poi']\n",
    "    for el in best:\n",
    "        bestList.append(el[0])\n",
    "        \n",
    "    return bestList"
   ]
  },
  {
   "cell_type": "code",
   "execution_count": 19,
   "metadata": {
    "collapsed": true
   },
   "outputs": [],
   "source": [
    "from sklearn.cross_validation import cross_val_score\n",
    "def selectFeatures(pipe, featList):\n",
    "    \n",
    "    bestList = getBest(featList)\n",
    "    \n",
    "    scoresArray = []\n",
    "    f_range = range(1, len(bestList)+1)\n",
    "    \n",
    "    for i in f_range:\n",
    "        # new features gives us up to i new features each iteration\n",
    "        new_features = bestList[0:i+1]\n",
    "        my_dataset = odict.copy()\n",
    "        data = featureFormat(my_dataset, new_features, sort_keys = True)\n",
    "        labels, features = targetFeatureSplit(data)\n",
    "        scores = cross_val_score(pipe,\n",
    "                                 X = features,\n",
    "                                 y = labels,\n",
    "                                 cv = StratifiedShuffleSplit(labels, n_iter = 5, random_state=42),\n",
    "                                 scoring = 'f1') \n",
    "        scoresArray.append(scores.mean())\n",
    "    \n",
    "    bestScore = scoresArray.index(np.max(scoresArray))\n",
    "    bestFeats = bestList[:bestScore+2]\n",
    "    return bestFeats   "
   ]
  },
  {
   "cell_type": "code",
   "execution_count": 16,
   "metadata": {
    "collapsed": true
   },
   "outputs": [],
   "source": [
    "def test_classifier(clf, dataset, feature_list, folds = 1000):\n",
    "    data = featureFormat(dataset, feature_list, sort_keys = True)\n",
    "    labels, features = targetFeatureSplit(data)\n",
    "    cv = StratifiedShuffleSplit(labels, folds, random_state = 42)\n",
    "    true_negatives = 0\n",
    "    false_negatives = 0\n",
    "    true_positives = 0\n",
    "    false_positives = 0\n",
    "    for train_idx, test_idx in cv: \n",
    "        features_train = []\n",
    "        features_test  = []\n",
    "        labels_train   = []\n",
    "        labels_test    = []\n",
    "        for ii in train_idx:\n",
    "            features_train.append( features[ii] )\n",
    "            labels_train.append( labels[ii] )\n",
    "        for jj in test_idx:\n",
    "            features_test.append( features[jj] )\n",
    "            labels_test.append( labels[jj] )\n",
    "        \n",
    "        ### fit the classifier using training set, and test on test set\n",
    "        clf.fit(features_train, labels_train)\n",
    "        predictions = clf.predict(features_test)\n",
    "        for prediction, truth in zip(predictions, labels_test):\n",
    "            if prediction == 0 and truth == 0:\n",
    "                true_negatives += 1\n",
    "            elif prediction == 0 and truth == 1:\n",
    "                false_negatives += 1\n",
    "            elif prediction == 1 and truth == 0:\n",
    "                false_positives += 1\n",
    "            elif prediction == 1 and truth == 1:\n",
    "                true_positives += 1\n",
    "            else:\n",
    "                print \"Warning: Found a predicted label not == 0 or 1.\"\n",
    "                print \"All predictions should take value 0 or 1.\"\n",
    "                print \"Evaluating performance for processed predictions:\"\n",
    "                break\n",
    "    try:\n",
    "        total_predictions = true_negatives + false_negatives + false_positives + true_positives\n",
    "        accuracy = 1.0*(true_positives + true_negatives)/total_predictions\n",
    "        precision = 1.0*true_positives/(true_positives+false_positives)\n",
    "        recall = 1.0*true_positives/(true_positives+false_negatives)\n",
    "        f1 = 2.0 * true_positives/(2*true_positives + false_positives+false_negatives)\n",
    "        f2 = (1+2.0*2.0) * precision*recall/(4*precision + recall)\n",
    "        print f1\n",
    "    except:\n",
    "        print \"Got a divide by zero when trying out:\", clf"
   ]
  },
  {
   "cell_type": "code",
   "execution_count": 17,
   "metadata": {
    "collapsed": true
   },
   "outputs": [],
   "source": [
    "from sklearn.cross_validation import StratifiedShuffleSplit\n",
    "from sklearn.grid_search import GridSearchCV"
   ]
  },
  {
   "cell_type": "code",
   "execution_count": 22,
   "metadata": {
    "collapsed": false
   },
   "outputs": [
    {
     "name": "stdout",
     "output_type": "stream",
     "text": [
      "('Model name: ', 'knn')\n",
      "('Best Features: ', ['poi', 'exercised_stock_options', 'total_stock_value', 'bonus'])\n",
      "{'clf__weights': 'uniform', 'clf__n_neighbors': 5}\n",
      "0.513787085515\n",
      "\n",
      "\n",
      "('Model name: ', 'decTree')\n",
      "('Best Features: ', ['poi', 'exercised_stock_options', 'total_stock_value', 'bonus', 'salary', 'deferred_income', 'long_term_incentive'])\n",
      "{'clf__criterion': 'gini', 'clf__min_samples_split': 10}\n",
      "0.293340523052\n",
      "\n",
      "\n",
      "('Model name: ', 'lr')\n",
      "('Best Features: ', ['poi', 'exercised_stock_options', 'total_stock_value', 'bonus', 'salary', 'deferred_income'])\n",
      "{'clf__C': 0.001}\n",
      "0.394036831336\n",
      "\n",
      "\n",
      "('Model name: ', 'kernelSVC')\n",
      "('Best Features: ', ['poi', 'exercised_stock_options'])\n",
      "{'clf__gamma': 0.1, 'clf__C': 100}\n",
      "0.472116119175\n",
      "\n",
      "\n",
      "('Model name: ', 'linSVC')\n",
      "('Best Features: ', ['poi', 'exercised_stock_options', 'total_stock_value', 'bonus', 'salary', 'deferred_income'])\n",
      "{'clf__C': 0.001}\n",
      "0.387724096019\n",
      "\n",
      "\n"
     ]
    }
   ],
   "source": [
    "for key, val in models.iteritems():\n",
    "    # Define model\n",
    "    print ('Model name: ', key)\n",
    "    m = val['model']\n",
    "    # Get best features for this model\n",
    "    kbest = selectFeatures(val['pipe'], features_list)\n",
    "    print('Best Features: ', kbest)\n",
    "    # Ready the dataset\n",
    "    my_dataset = odict.copy()\n",
    "    data = featureFormat(my_dataset, kbest, sort_keys = True)\n",
    "    labels, features = targetFeatureSplit(data)\n",
    "    # Setup cross val strategy\n",
    "    cv = StratifiedShuffleSplit(labels, n_iter = 1000, random_state=42)\n",
    "    # Run grid search and fit model\n",
    "    gs = GridSearchCV(val['pipe'], param_grid = val['params'], cv = cv, scoring = 'f1')\n",
    "    clf = gs.fit(features, labels)\n",
    "    print(clf.best_params_)\n",
    "    test_classifier(clf.best_estimator_, my_dataset, kbest, folds = 1000)\n",
    "    print('\\n')"
   ]
  },
  {
   "cell_type": "code",
   "execution_count": 96,
   "metadata": {
    "collapsed": true
   },
   "outputs": [],
   "source": [
    "# When final model chosen, use this to visualize process..."
   ]
  },
  {
   "cell_type": "code",
   "execution_count": 56,
   "metadata": {
    "collapsed": false
   },
   "outputs": [
    {
     "name": "stdout",
     "output_type": "stream",
     "text": [
      "('exercised_stock_options', 0.20000000000000001)\n",
      "('total_stock_value', 0.13333333333333333)\n",
      "('bonus', 0.16666666666666666)\n",
      "('salary', 0.26666666666666666)\n",
      "('deferred_income', 0.29999999999999999)\n",
      "('long_term_incentive', 0.36666666666666659)\n",
      "('total_payments', 0.33333333333333331)\n",
      "('restricted_stock', 0.29999999999999999)\n",
      "('shared_receipt_with_poi', 0.40000000000000002)\n",
      "('loan_advances', 0.29999999999999999)\n",
      "('expenses', 0.20000000000000001)\n",
      "('from_poi_to_this_person', 0.29999999999999999)\n",
      "('other', 0.29999999999999999)\n",
      "('from_this_person_to_poi', 0.29999999999999999)\n",
      "('director_fees', 0.29999999999999999)\n",
      "('to_messages', 0.20000000000000001)\n",
      "('deferral_payments', 0.20000000000000001)\n",
      "('from_messages', 0.20000000000000001)\n",
      "('restricted_stock_deferred', 0.20000000000000001)\n"
     ]
    }
   ],
   "source": [
    "# Feature Selection for ... model\n",
    "my_dataset = odict\n",
    "\n",
    "clf_lsvc = LinearSVC(C = 0.001, random_state = 0) # Why 0.001\n",
    "\n",
    "pipe_lsvc = Pipeline([['sc', StandardScaler()],\n",
    "                      ['clf', clf_lsvc]])\n",
    "\n",
    "lsvc_scores = []\n",
    "f_range = range(2, len(features_list)+1)\n",
    "for i in f_range:\n",
    "    \n",
    "    new_features = features_list[0:i]\n",
    "    \n",
    "    data = featureFormat(my_dataset, new_features, sort_keys = True)\n",
    "    labels, features = targetFeatureSplit(data)\n",
    "    \n",
    "#     features_train, features_test, labels_train, labels_test = \\\n",
    "#         train_test_split(features, labels, test_size=0.3, random_state=42)\n",
    "    \n",
    "    scores = cross_val_score(pipe_lsvc,\n",
    "                             X = features,\n",
    "                             y = labels,\n",
    "                             cv = StratifiedShuffleSplit(labels, n_iter = 5, random_state=42),\n",
    "                             # random_state super important\n",
    "                             scoring = 'f1')\n",
    "    \n",
    "    lsvc_scores.append(scores.mean())\n",
    "    \n",
    "for i in range(len(lsvc_scores)):\n",
    "    print(features_list[i+1], lsvc_scores[i])"
   ]
  },
  {
   "cell_type": "code",
   "execution_count": 61,
   "metadata": {
    "collapsed": false
   },
   "outputs": [
    {
     "data": {
      "text/plain": [
       "<matplotlib.text.Text at 0x1098ec490>"
      ]
     },
     "execution_count": 61,
     "metadata": {},
     "output_type": "execute_result"
    },
    {
     "data": {
      "image/png": "[encoded data removed]",
      "text/plain": [
       "<matplotlib.figure.Figure at 0x1097bf210>"
      ]
     },
     "metadata": {},
     "output_type": "display_data"
    }
   ],
   "source": [
    "# Feature Selection for Linear SVM\n",
    "import matplotlib.pyplot as plt\n",
    "%matplotlib inline\n",
    "\n",
    "plt.plot(f_range, lsvc_scores)\n",
    "plt.xlabel('# of Features in SelectKBest')\n",
    "plt.ylabel('Cross-Validated F1')"
   ]
  }
 ],
 "metadata": {
  "kernelspec": {
   "display_name": "Python 2",
   "language": "python",
   "name": "python2"
  },
  "language_info": {
   "codemirror_mode": {
    "name": "ipython",
    "version": 2
   },
   "file_extension": ".py",
   "mimetype": "text/x-python",
   "name": "python",
   "nbconvert_exporter": "python",
   "pygments_lexer": "ipython2",
   "version": "2.7.10"
  }
 },
 "nbformat": 4,
 "nbformat_minor": 0
}
