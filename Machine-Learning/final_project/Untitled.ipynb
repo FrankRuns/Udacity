{
 "cells": [
  {
   "cell_type": "code",
   "execution_count": 114,
   "metadata": {
    "collapsed": true
   },
   "outputs": [],
   "source": [
    "import pickle\n",
    "data_dict = pickle.load(open(\"final_project_dataset.pkl\", \"r\") )"
   ]
  },
  {
   "cell_type": "code",
   "execution_count": 115,
   "metadata": {
    "collapsed": false
   },
   "outputs": [
    {
     "data": {
      "text/plain": [
       "Index([u'salary', u'to_messages', u'deferral_payments', u'total_payments',\n",
       "       u'exercised_stock_options', u'bonus', u'restricted_stock',\n",
       "       u'shared_receipt_with_poi', u'restricted_stock_deferred',\n",
       "       u'total_stock_value', u'expenses', u'loan_advances', u'from_messages',\n",
       "       u'other', u'from_this_person_to_poi', u'poi', u'director_fees',\n",
       "       u'deferred_income', u'long_term_incentive', u'email_address',\n",
       "       u'from_poi_to_this_person'],\n",
       "      dtype='object')"
      ]
     },
     "execution_count": 115,
     "metadata": {},
     "output_type": "execute_result"
    }
   ],
   "source": [
    "import pandas as pd\n",
    "import numpy as np\n",
    "pdata = pd.DataFrame.from_dict(data_dict, orient='index')\n",
    "pdata.columns"
   ]
  },
  {
   "cell_type": "code",
   "execution_count": 116,
   "metadata": {
    "collapsed": false
   },
   "outputs": [],
   "source": [
    "pdata = pdata.replace('NaN', np.nan, regex=True)\n",
    "temp = []\n",
    "for el in pdata['email_address'].values:\n",
    "    if type(el) == float:\n",
    "        temp.append(False)\n",
    "    else:\n",
    "        temp.append(True)\n",
    "pdata['has_email_data'] = temp\n",
    "pdata['total_navalue_count'] = pdata.isnull().sum(axis=1)\n",
    "pdata['sal_navalue_count'] = pdata[['salary', 'deferral_payments', 'long_term_incentive', 'total_payments', 'bonus', 'expenses', 'loan_advances', 'other', 'director_fees', 'deferred_income']].isnull().sum(axis=1)\n",
    "pdata['stock_navalue_count'] = pdata[['exercised_stock_options', 'restricted_stock', 'total_stock_value']].isnull().sum(axis=1)\n",
    "pdata = pdata.drop('email_address', 1)\n",
    "pdata = pdata.replace(np.nan, 0, regex=True)\n",
    "pdata = pdata[pdata.index != 'TOTAL']\n",
    "pdata = pdata[pdata.index != 'SKILLING JEFFREY K']\n",
    "# pdata = pdata[pdata.index != 'LAY KENNETH L'] # took out during pca analysis\n",
    "# pdata = pdata[pdata.index != 'FREVERT MARK A'] # took out during pca analysis\n",
    "pdata = pdata[pdata.index != 'BELFER ROBERT']\n",
    "pdata = pdata[pdata.index != 'BHATNAGAR SANJAY']\n",
    "pdata['short_gain'] = pdata['exercised_stock_options'] - pdata['long_term_incentive']\n",
    "pdata['sal_ratio'] = pdata['salary'] / pdata['total_payments']\n",
    "pdata['nonsal_ratio'] = (pdata['bonus'] + pdata['long_term_incentive'] + pdata['expenses']) / pdata['total_payments']\n",
    "pdata['stock_ratio'] = pdata['restricted_stock'] / pdata['total_stock_value']\n",
    "pdata['em_ratio'] = (pdata['shared_receipt_with_poi'] + pdata['from_this_person_to_poi'] + pdata['from_poi_to_this_person'] ) / (pdata['to_messages'] + pdata['from_messages'])\n",
    "pdata['total_total'] = pdata['total_payments'] + pdata['total_stock_value']\n",
    "pdata['from_ratio'] = pdata['from_this_person_to_poi'] / pdata['from_messages']\n",
    "pdata['sent_ratio'] = (pdata['from_poi_to_this_person'] + pdata['shared_receipt_with_poi']) / pdata['to_messages']\n",
    "pdata['fromto_ratio'] = pdata['from_ratio'] + pdata['sent_ratio']\n",
    "pdata['bonusexpsal'] = pdata['bonus'] + pdata['expenses'] + pdata['salary']\n",
    "pdata['sal_def'] = pdata['salary'] + abs(pdata['deferred_income'])"
   ]
  },
  {
   "cell_type": "code",
   "execution_count": 118,
   "metadata": {
    "collapsed": true
   },
   "outputs": [],
   "source": [
    "pdata = pdata.replace(np.nan, 0, regex=True)\n",
    "pdata = pdata.replace(np.inf, 0, regex=True)\n",
    "pdata = pdata.replace(-np.inf, 0, regex=True)\n",
    "pdict = pdata.T.to_dict()"
   ]
  },
  {
   "cell_type": "code",
   "execution_count": 119,
   "metadata": {
    "collapsed": true
   },
   "outputs": [],
   "source": [
    "import sys\n",
    "sys.path.append(\"../tools/\")\n",
    "from feature_format import featureFormat, targetFeatureSplit"
   ]
  },
  {
   "cell_type": "code",
   "execution_count": 120,
   "metadata": {
    "collapsed": true
   },
   "outputs": [],
   "source": [
    "features_list = ['poi', 'salary', 'to_messages', 'deferral_payments', \n",
    "                 'total_payments', 'exercised_stock_options', \n",
    "                 'restricted_stock', 'shared_receipt_with_poi', 'restricted_stock_deferred', \n",
    "                 'total_stock_value', 'from_messages', 'deferred_income', \n",
    "                 'other', 'from_this_person_to_poi', 'director_fees',\n",
    "                 'long_term_incentive', 'from_poi_to_this_person',\n",
    "                 'sal_ratio', 'stock_ratio', 'bonusexpsal', 'nonsal_ratio', 'stock_navalue_count',\n",
    "                 'em_ratio', 'has_email_data', 'total_navalue_count',\n",
    "                 'total_total', 'short_gain', 'sal_navalue_count', 'fromto_ratio']\n",
    "# 'from_ratio', 'sent_ratio',"
   ]
  },
  {
   "cell_type": "code",
   "execution_count": 121,
   "metadata": {
    "collapsed": false
   },
   "outputs": [],
   "source": [
    "my_dataset = pdict\n",
    "data = featureFormat(my_dataset, features_list, sort_keys = True)\n",
    "labels, features = targetFeatureSplit(data)"
   ]
  },
  {
   "cell_type": "code",
   "execution_count": 122,
   "metadata": {
    "collapsed": true
   },
   "outputs": [],
   "source": [
    "from sklearn.preprocessing import MinMaxScaler\n",
    "from sklearn.preprocessing import StandardScaler\n",
    "scaler = MinMaxScaler()\n",
    "# scaler = StandardScaler()\n",
    "features = scaler.fit_transform(features)"
   ]
  },
  {
   "cell_type": "code",
   "execution_count": 123,
   "metadata": {
    "collapsed": true
   },
   "outputs": [],
   "source": [
    "from sklearn.cross_validation import train_test_split\n",
    "features_train, features_test, labels_train, labels_test = \\\n",
    "    train_test_split(features, labels, test_size=0.3, random_state=42)"
   ]
  },
  {
   "cell_type": "code",
   "execution_count": 124,
   "metadata": {
    "collapsed": false
   },
   "outputs": [
    {
     "name": "stdout",
     "output_type": "stream",
     "text": [
      "('salary', 6.4679679843454627)\n",
      "('shared_receipt_with_poi', 7.1818771442764069)\n",
      "('deferred_income', 17.17552763271879)\n",
      "('bonusexpsal', 9.559316692235166)\n",
      "('nonsal_ratio', 12.369312712856718)\n",
      "('em_ratio', 8.2832315549109197)\n",
      "('total_navalue_count', 7.558259797411444)\n",
      "('total_total', 4.1176785774775935)\n",
      "('sal_navalue_count', 11.707644067293582)\n",
      "('fromto_ratio', 11.269952240225802)\n"
     ]
    }
   ],
   "source": [
    "from sklearn.feature_selection import SelectKBest\n",
    "x_new = SelectKBest(k=10)\n",
    "x_new.fit_transform(features_train, labels_train)\n",
    "for i in range(len(x_new.scores_)):\n",
    "    if x_new.get_support()[i]:\n",
    "        print(features_list[i+1], x_new.scores_[i])\n",
    "best = []\n",
    "for i in range(len(x_new.get_support())):\n",
    "    if x_new.get_support()[i]:\n",
    "        best.append(features_list[i+1])"
   ]
  },
  {
   "cell_type": "code",
   "execution_count": 125,
   "metadata": {
    "collapsed": false
   },
   "outputs": [],
   "source": [
    "features_list = ['poi']\n",
    "for el in best:\n",
    "    features_list.append(el)"
   ]
  },
  {
   "cell_type": "code",
   "execution_count": 126,
   "metadata": {
    "collapsed": false
   },
   "outputs": [
    {
     "data": {
      "text/plain": [
       "['poi',\n",
       " 'salary',\n",
       " 'shared_receipt_with_poi',\n",
       " 'deferred_income',\n",
       " 'bonusexpsal',\n",
       " 'nonsal_ratio',\n",
       " 'em_ratio',\n",
       " 'total_navalue_count',\n",
       " 'total_total',\n",
       " 'sal_navalue_count',\n",
       " 'fromto_ratio']"
      ]
     },
     "execution_count": 126,
     "metadata": {},
     "output_type": "execute_result"
    }
   ],
   "source": [
    "features_list"
   ]
  },
  {
   "cell_type": "code",
   "execution_count": 127,
   "metadata": {
    "collapsed": true
   },
   "outputs": [],
   "source": [
    "features_list = ['poi',\n",
    " 'salary',\n",
    " 'shared_receipt_with_poi',\n",
    " 'deferred_income',\n",
    " 'bonusexpsal',\n",
    " 'nonsal_ratio',\n",
    " 'em_ratio',\n",
    " 'total_navalue_count',\n",
    " 'total_total',\n",
    " 'sal_navalue_count',\n",
    " 'fromto_ratio']"
   ]
  },
  {
   "cell_type": "code",
   "execution_count": 128,
   "metadata": {
    "collapsed": false
   },
   "outputs": [],
   "source": [
    "my_dataset = pdict\n",
    "data = featureFormat(my_dataset, features_list, sort_keys = True)\n",
    "labels, features = targetFeatureSplit(data)"
   ]
  },
  {
   "cell_type": "code",
   "execution_count": 129,
   "metadata": {
    "collapsed": true
   },
   "outputs": [],
   "source": [
    "from sklearn.cross_validation import train_test_split\n",
    "features_train, features_test, labels_train, labels_test = \\\n",
    "    train_test_split(features, labels, test_size=0.3, random_state=42)"
   ]
  },
  {
   "cell_type": "code",
   "execution_count": 135,
   "metadata": {
    "collapsed": false
   },
   "outputs": [
    {
     "name": "stdout",
     "output_type": "stream",
     "text": [
      "0.920893409996\n",
      "{'clf__criterion': 'entropy', 'clf__min_samples_split': 40}\n"
     ]
    },
    {
     "name": "stderr",
     "output_type": "stream",
     "text": [
      "/Users/frankcorrigan/anaconda3/envs/python2/lib/python2.7/site-packages/sklearn/metrics/classification.py:960: UndefinedMetricWarning: F-score is ill-defined and being set to 0.0 in labels with no true samples.\n",
      "  'recall', 'true', average, warn_for)\n",
      "/Users/frankcorrigan/anaconda3/envs/python2/lib/python2.7/site-packages/sklearn/metrics/classification.py:958: UndefinedMetricWarning: F-score is ill-defined and being set to 0.0 in labels with no predicted samples.\n",
      "  'precision', 'predicted', average, warn_for)\n",
      "/Users/frankcorrigan/anaconda3/envs/python2/lib/python2.7/site-packages/sklearn/metrics/classification.py:960: UndefinedMetricWarning: F-score is ill-defined and being set to 0.0 in labels with no true samples.\n",
      "  'recall', 'true', average, warn_for)\n",
      "/Users/frankcorrigan/anaconda3/envs/python2/lib/python2.7/site-packages/sklearn/metrics/classification.py:960: UndefinedMetricWarning: F-score is ill-defined and being set to 0.0 in labels with no true samples.\n",
      "  'recall', 'true', average, warn_for)\n",
      "/Users/frankcorrigan/anaconda3/envs/python2/lib/python2.7/site-packages/sklearn/metrics/classification.py:958: UndefinedMetricWarning: F-score is ill-defined and being set to 0.0 in labels with no predicted samples.\n",
      "  'precision', 'predicted', average, warn_for)\n"
     ]
    }
   ],
   "source": [
    "from sklearn.grid_search import GridSearchCV\n",
    "from sklearn.tree import DecisionTreeClassifier\n",
    "from sklearn.pipeline import Pipeline\n",
    "from sklearn.decomposition import PCA\n",
    "from sklearn.cross_validation import StratifiedShuffleSplit\n",
    "pipe_dtc = Pipeline([('scl', MinMaxScaler()),\n",
    "                     ('pca', PCA(n_components=2)),\n",
    "                     ('clf', DecisionTreeClassifier(random_state=1))])\n",
    "cv = StratifiedShuffleSplit(labels_train, n_iter=10, random_state = 42)\n",
    "mss_range = [2, 10, 20, 30, 40]\n",
    "param_grid = [{'clf__min_samples_split': mss_range,\n",
    "               'clf__criterion': ['entropy', 'gini']}]\n",
    "gs = GridSearchCV(estimator=pipe_dtc,\n",
    "                  param_grid = param_grid,\n",
    "                  scoring = 'f1_weighted',\n",
    "                  cv = cv,\n",
    "                  n_jobs=-1)\n",
    "# clf = gs.fit(features_train, labels_train)\n",
    "clf = gs.fit(features, labels)\n",
    "print(clf.best_score_)\n",
    "print(clf.best_params_)"
   ]
  },
  {
   "cell_type": "code",
   "execution_count": 136,
   "metadata": {
    "collapsed": false
   },
   "outputs": [
    {
     "name": "stdout",
     "output_type": "stream",
     "text": [
      "Test accuracy: 0.927\n",
      "Test precision: 0.600\n",
      "Test recall: 0.750\n",
      "Test F1: 0.667\n"
     ]
    }
   ],
   "source": [
    "from sklearn.metrics import accuracy_score, f1_score, confusion_matrix, precision_score, recall_score\n",
    "print('Test accuracy: %.3f' % clf.score(features_test, labels_test))\n",
    "print('Test precision: %.3f' % precision_score(clf.predict(features_test), labels_test))\n",
    "print('Test recall: %.3f' % recall_score(clf.predict(features_test), labels_test))\n",
    "print('Test F1: %.3f' % f1_score(clf.predict(features_test), labels_test))"
   ]
  },
  {
   "cell_type": "code",
   "execution_count": 132,
   "metadata": {
    "collapsed": false
   },
   "outputs": [
    {
     "name": "stdout",
     "output_type": "stream",
     "text": [
      "             precision    recall  f1-score   support\n",
      "\n",
      "        0.0       0.93      0.97      0.95        38\n",
      "        1.0       0.67      0.40      0.50         5\n",
      "\n",
      "avg / total       0.89      0.91      0.90        43\n",
      "\n",
      "[[37  1]\n",
      " [ 3  2]]\n"
     ]
    }
   ],
   "source": [
    "from sklearn.metrics import classification_report\n",
    "print(classification_report(labels_test, clf.predict(features_test)))\n",
    "print(confusion_matrix(labels_test, clf.predict(features_test)))"
   ]
  },
  {
   "cell_type": "code",
   "execution_count": 133,
   "metadata": {
    "collapsed": false
   },
   "outputs": [
    {
     "name": "stdout",
     "output_type": "stream",
     "text": [
      "DecisionTreeClassifier(class_weight=None, criterion='gini', max_depth=None,\n",
      "            max_features=None, max_leaf_nodes=None, min_samples_leaf=1,\n",
      "            min_samples_split=40, min_weight_fraction_leaf=0.0,\n",
      "            random_state=1, splitter='best')\n",
      "[ 0.          0.          0.          0.67215885  0.          0.          0.\n",
      "  0.32784115  0.          0.        ]\n",
      "['poi', 'salary', 'shared_receipt_with_poi', 'deferred_income', 'bonusexpsal', 'nonsal_ratio', 'em_ratio', 'total_navalue_count', 'total_total', 'sal_navalue_count', 'fromto_ratio']\n",
      "0.627906976744\n"
     ]
    }
   ],
   "source": [
    "from sklearn import decomposition, preprocessing\n",
    "\n",
    "scaled_data = preprocessing.scale(features_train)\n",
    "\n",
    "dtc = DecisionTreeClassifier(criterion='gini',\n",
    "                             min_samples_split=40,\n",
    "                             random_state=1)\n",
    "\n",
    "dtc.fit(scaled_data, labels_train)\n",
    "\n",
    "print(dtc)\n",
    "print(dtc.feature_importances_)\n",
    "print(features_list)\n",
    "print(dtc.score(features_test, labels_test))\n"
   ]
  },
  {
   "cell_type": "code",
   "execution_count": 134,
   "metadata": {
    "collapsed": false
   },
   "outputs": [
    {
     "name": "stdout",
     "output_type": "stream",
     "text": [
      "[[ 0.29730099  0.22052028 -0.07219128  0.14270303  0.06641305  0.53228948\n",
      "  -0.41331956  0.05977197 -0.35876406  0.49653501]\n",
      " [ 0.37946421  0.04596605 -0.10449767  0.16261413  0.04120302 -0.4747261\n",
      "  -0.16055398  0.25952397 -0.58448162 -0.39334377]]\n",
      "['poi', 'salary', 'shared_receipt_with_poi', 'deferred_income', 'bonusexpsal', 'nonsal_ratio', 'em_ratio', 'total_navalue_count', 'total_total', 'sal_navalue_count', 'fromto_ratio']\n"
     ]
    }
   ],
   "source": [
    "print(clf.best_estimator_.named_steps['pca'].components_)\n",
    "print(features_list)"
   ]
  },
  {
   "cell_type": "code",
   "execution_count": 621,
   "metadata": {
    "collapsed": false
   },
   "outputs": [
    {
     "data": {
      "text/plain": [
       "1.1102230246251565e-16"
      ]
     },
     "execution_count": 621,
     "metadata": {},
     "output_type": "execute_result"
    }
   ],
   "source": [
    "np.dot(clf.best_estimator_.named_steps['pca'].components_[0], clf.best_estimator_.named_steps['pca'].components_[1])"
   ]
  },
  {
   "cell_type": "code",
   "execution_count": 622,
   "metadata": {
    "collapsed": false
   },
   "outputs": [
    {
     "data": {
      "text/plain": [
       "array([ 0.63231207,  0.16507199])"
      ]
     },
     "execution_count": 622,
     "metadata": {},
     "output_type": "execute_result"
    }
   ],
   "source": [
    "clf.best_estimator_.named_steps['pca'].explained_variance_ratio_"
   ]
  },
  {
   "cell_type": "code",
   "execution_count": 623,
   "metadata": {
    "collapsed": false
   },
   "outputs": [
    {
     "data": {
      "text/plain": [
       "array([ 1.,  1.])"
      ]
     },
     "execution_count": 623,
     "metadata": {},
     "output_type": "execute_result"
    }
   ],
   "source": [
    "(clf.best_estimator_.named_steps['pca'].components_.T**2).sum(axis=0)"
   ]
  },
  {
   "cell_type": "code",
   "execution_count": 624,
   "metadata": {
    "collapsed": true
   },
   "outputs": [],
   "source": [
    "import matplotlib.pyplot as plt\n",
    "%matplotlib inline\n",
    "import seaborn as sns\n",
    "sns.set(color_codes=True)"
   ]
  },
  {
   "cell_type": "code",
   "execution_count": 625,
   "metadata": {
    "collapsed": false
   },
   "outputs": [
    {
     "data": {
      "image/png": "[encoded data removed]",
      "text/plain": [
       "<matplotlib.figure.Figure at 0x10bb71610>"
      ]
     },
     "metadata": {},
     "output_type": "display_data"
    }
   ],
   "source": [
    "plt.figure(figsize=(12, 8))\n",
    "sns.regplot(transformed[:, 0], transformed[:, 1], fit_reg=False)\n",
    "feature_vectors = clf.best_estimator_.named_steps['pca'].components_.T\n",
    "arrow_size, text_pos = 2.0, 2.5\n",
    "for i, v in enumerate(feature_vectors):\n",
    "    plt.arrow(0, 0, arrow_size*v[0], arrow_size*v[1], \n",
    "              head_width=0.05, head_length=0.1)\n",
    "    plt.text(v[0]*text_pos, v[1]*text_pos, features_list[i+1], color='r', \n",
    "             ha='center', va='center', fontsize=10)\n",
    "plt.xlabel(\"PC1\", fontsize=14)\n",
    "plt.ylabel(\"PC2\", fontsize=14)\n",
    "plt.title(\"PC plane with original feature projections.\", fontsize=18)\n",
    "plt.show()"
   ]
  },
  {
   "cell_type": "code",
   "execution_count": 527,
   "metadata": {
    "collapsed": false
   },
   "outputs": [
    {
     "data": {
      "text/plain": [
       "['poi',\n",
       " 'salary',\n",
       " 'exercised_stock_options',\n",
       " 'shared_receipt_with_poi',\n",
       " 'nonsal_ratio',\n",
       " 'em_ratio',\n",
       " 'has_email_data',\n",
       " 'total_navalue_count',\n",
       " 'total_total',\n",
       " 'sal_navalue_count',\n",
       " 'fromto_ratio']"
      ]
     },
     "execution_count": 527,
     "metadata": {},
     "output_type": "execute_result"
    }
   ],
   "source": [
    "features_list"
   ]
  },
  {
   "cell_type": "code",
   "execution_count": 528,
   "metadata": {
    "collapsed": false
   },
   "outputs": [],
   "source": [
    "from sklearn import decomposition, preprocessing\n",
    "\n",
    "ptest = pdata[features_list[1:]]\n",
    "\n",
    "# ptest = pdata.drop(['poi'], axis=1)\n",
    " \n",
    "pca = PCA(n_components=2)\n",
    "\n",
    "scaled_data = preprocessing.scale(ptest)\n",
    "\n",
    "pca.fit(scaled_data)\n",
    "\n",
    "transformed = pca.transform(scaled_data)"
   ]
  },
  {
   "cell_type": "code",
   "execution_count": 529,
   "metadata": {
    "collapsed": false
   },
   "outputs": [
    {
     "data": {
      "text/plain": [
       "array([[ -1.62589489,   0.09457769],\n",
       "       [  2.78627829,  -0.30079309],\n",
       "       [ -0.94078342,   0.64204176],\n",
       "       [  0.42433822,  -2.20627769],\n",
       "       [  0.33642511,  -0.28103402],\n",
       "       [  2.06213812,  -0.69067747],\n",
       "       [ -0.91488762,   0.56405547],\n",
       "       [ -3.13072883,   1.07415548],\n",
       "       [  1.31460471,  -0.48925708],\n",
       "       [ -0.95665656,   0.66473784],\n",
       "       [ -1.83620156,   0.94201037],\n",
       "       [ -2.32685494,   1.24371677],\n",
       "       [  2.58961832,  -0.30993901],\n",
       "       [ -2.54020079,   1.40955625],\n",
       "       [  0.67656486,   0.94805317],\n",
       "       [ -0.02426034,  -0.28660338],\n",
       "       [  0.35488226,  -0.36587419],\n",
       "       [ -2.22540028,   0.27910186],\n",
       "       [ -2.31998478,   1.30137961],\n",
       "       [ -1.40781306,   1.08179699],\n",
       "       [ -2.49303579,   0.91683285],\n",
       "       [  3.03544346,  -0.23257953],\n",
       "       [  2.28077517,  -0.79985727],\n",
       "       [  3.39882042,  -0.18709285],\n",
       "       [ -1.96024066,   1.02009755],\n",
       "       [  1.90178294,   0.25825492],\n",
       "       [ -1.19209978,   0.63702045],\n",
       "       [  1.58390649,  -0.55288878],\n",
       "       [ -1.5057305 ,   1.16932   ],\n",
       "       [ -2.04580315,   0.12968568],\n",
       "       [ -2.84486847,  -1.0625581 ],\n",
       "       [ -0.05434545,  -0.60765201],\n",
       "       [ -2.12695424,   0.99557243],\n",
       "       [  0.04478743,  -1.80264326],\n",
       "       [ -0.57862272,   0.91373094],\n",
       "       [ -2.44680322,   1.52327701],\n",
       "       [  2.78515605,  -0.31617967],\n",
       "       [ -1.58712742,   0.8327653 ],\n",
       "       [  0.57306003,  -0.40194501],\n",
       "       [  0.19549353,  -1.09270824],\n",
       "       [ -2.48228897,   1.12139553],\n",
       "       [ -0.15046723,  -0.68690839],\n",
       "       [ -1.67759696,   1.12205182],\n",
       "       [  1.99100764,   0.0321448 ],\n",
       "       [  1.66394463,   0.1839642 ],\n",
       "       [ -5.73824713,  -2.11650878],\n",
       "       [  3.02535477,  -0.26579031],\n",
       "       [  1.26629283,  -0.572033  ],\n",
       "       [ -1.84627314,   1.26322942],\n",
       "       [  3.21350322,  -0.47111696],\n",
       "       [  1.07257724,  -0.05540328],\n",
       "       [  3.400041  ,  -0.18379485],\n",
       "       [ -2.22521789,   1.44814245],\n",
       "       [  0.70260264,  -0.44182609],\n",
       "       [  3.21894608,  -0.28600211],\n",
       "       [  2.44613156,  -0.38357351],\n",
       "       [ -2.02606464,   0.19524193],\n",
       "       [ -4.59722783,   0.71032485],\n",
       "       [ -0.193169  ,   1.48765779],\n",
       "       [  1.50878057,   0.38468275],\n",
       "       [  1.68166826,   0.56386568],\n",
       "       [  0.25587447,  -0.380021  ],\n",
       "       [ -1.24887008,   0.86253912],\n",
       "       [ -0.03276996,  -5.3478967 ],\n",
       "       [  0.33413333,  -0.27116269],\n",
       "       [  0.40302574,   1.41792358],\n",
       "       [ -1.51808486,   1.43847913],\n",
       "       [ -1.26279521,   0.91610659],\n",
       "       [ -0.87954382,   0.69543258],\n",
       "       [  2.59656484,  -0.27883857],\n",
       "       [ -0.34547703,  -0.18307639],\n",
       "       [ -1.93112294,  -0.21874575],\n",
       "       [  1.09311844,  -0.2365359 ],\n",
       "       [ -1.66691597,   0.67101362],\n",
       "       [ -2.51896925,   1.24062738],\n",
       "       [  0.65994973,  -0.39357614],\n",
       "       [ -2.67889361,  -0.2652878 ],\n",
       "       [ -7.79715165, -11.10723553],\n",
       "       [ -2.20793349,   1.39633809],\n",
       "       [  2.78283104,  -0.32384445],\n",
       "       [  0.67394418,   1.22337799],\n",
       "       [  0.22585135,  -0.74718203],\n",
       "       [  3.67970847,  -0.2509571 ],\n",
       "       [  3.28939766,  -0.22001644],\n",
       "       [ -0.87043174,  -0.54652402],\n",
       "       [  1.35232296,   0.66630246],\n",
       "       [ -1.84649581,   1.01330986],\n",
       "       [ -1.84564191,   0.25234641],\n",
       "       [  0.38714278,   1.38014795],\n",
       "       [ -2.90113705,   1.16898478],\n",
       "       [  2.58963561,  -0.30988907],\n",
       "       [ -1.54497479,   0.98519219],\n",
       "       [  2.58960498,  -0.30997752],\n",
       "       [  1.43104307,   0.16881962],\n",
       "       [  1.75710137,   0.51311493],\n",
       "       [  0.84312615,  -0.30509673],\n",
       "       [ -1.74284152,   0.72942829],\n",
       "       [ -0.3550834 ,   0.10362008],\n",
       "       [  2.92530065,  -0.25897718],\n",
       "       [ -2.06034888,   0.62507676],\n",
       "       [  0.80101132,  -1.06867654],\n",
       "       [ -0.17259194,  -3.44768663],\n",
       "       [  2.58921061,  -0.31111635],\n",
       "       [ -1.87232784,   0.47857331],\n",
       "       [ -1.4789968 ,   0.74615401],\n",
       "       [  2.06492109,   0.34473146],\n",
       "       [  1.88905298,   0.18680887],\n",
       "       [  2.04852918,  -0.07696988],\n",
       "       [ -0.84685691,  -0.02501464],\n",
       "       [  0.97178574,  -1.11359298],\n",
       "       [ -4.65766194,  -2.38173396],\n",
       "       [ -2.56972189,   1.27745866],\n",
       "       [  2.99124371,  -0.29578898],\n",
       "       [  2.61864338,  -0.01488277],\n",
       "       [ -1.40345292,   0.15334058],\n",
       "       [ -1.59838343,   0.53937247],\n",
       "       [ -2.19898795,   1.05921796],\n",
       "       [ -0.87350116,   0.34411001],\n",
       "       [ -0.27834504,   1.83245806],\n",
       "       [ -2.05498842,   0.35327649],\n",
       "       [  0.90727543,  -0.30761773],\n",
       "       [  1.57820093,  -0.76561568],\n",
       "       [ -2.2164999 ,   1.52929574],\n",
       "       [ -0.63332137,   0.04067618],\n",
       "       [  3.21523332,  -0.2967234 ],\n",
       "       [ -0.47228714,  -0.569736  ],\n",
       "       [ -1.95448944,   1.24802326],\n",
       "       [ -0.01210368,   0.35114187],\n",
       "       [  2.58614145,  -0.31997911],\n",
       "       [  2.90417845,  -0.30472515],\n",
       "       [ -1.0044383 ,  -0.71022652],\n",
       "       [  2.68366766,  -0.43203901],\n",
       "       [ -1.91846476,   0.85703666],\n",
       "       [  1.06190311,  -0.09580903],\n",
       "       [  3.48916812,  -0.22013963],\n",
       "       [ -2.98197719,  -0.06114406],\n",
       "       [  0.39959464,  -1.22793231],\n",
       "       [  2.75766955,  -0.31425461],\n",
       "       [  2.38224756,   0.03221264],\n",
       "       [  3.48703383,  -0.2272371 ],\n",
       "       [  0.79319074,  -1.73527384],\n",
       "       [  2.85222674,  -0.26823644]])"
      ]
     },
     "execution_count": 529,
     "metadata": {},
     "output_type": "execute_result"
    }
   ],
   "source": [
    "transformed"
   ]
  },
  {
   "cell_type": "code",
   "execution_count": 382,
   "metadata": {
    "collapsed": false
   },
   "outputs": [
    {
     "name": "stdout",
     "output_type": "stream",
     "text": [
      "(0, -3.5088252138932341)\n",
      "(1, 2.3875457659389134)\n",
      "(2, -0.29778839293477538)\n",
      "(3, -0.64508161029049549)\n",
      "(4, 0.40792025416982419)\n",
      "(5, 1.700726277058958)\n",
      "(6, -0.78710049745077681)\n",
      "(7, -5.0522890128030671)\n",
      "(8, 1.6634338235542239)\n",
      "(9, -0.82273186521434849)\n",
      "(10, -1.6251478313810237)\n",
      "(11, -2.1252729157025971)\n",
      "(12, 2.1139030551008657)\n",
      "(13, -2.4797573422259171)\n",
      "(14, 1.0677445364700058)\n",
      "(15, 0.18965272140844625)\n",
      "(16, 0.3993407148708647)\n",
      "(17, -2.280436893145287)\n",
      "(18, -2.3497799025703165)\n",
      "(19, -1.122971956544546)\n",
      "(20, -2.4785018781150634)\n",
      "(21, 2.5858636320696369)\n",
      "(22, 2.8090825052406094)\n",
      "(23, 2.9852234102225119)\n",
      "(24, -1.9339920600142)\n",
      "(25, 2.3052489913707923)\n",
      "(26, -1.0386097384904955)\n",
      "(27, 1.0348731080180387)\n",
      "(28, -1.2337012036521757)\n",
      "(29, -2.4505937364618502)\n",
      "(30, -2.9412711068575725)\n",
      "(31, -0.097487847357649426)\n",
      "(32, -1.8101634123646519)\n",
      "(33, 0.35283136100473322)\n",
      "(34, -0.19329962118239194)\n",
      "(35, -2.3020792205227059)\n",
      "(36, 2.38229187752653)\n",
      "(37, -1.3050119768757462)\n",
      "(38, 0.83488581716050314)\n",
      "(39, 0.39289651967485806)\n",
      "(40, -2.7130925334663143)\n",
      "(41, -0.82924164502345821)\n",
      "(42, -1.2977693343680119)\n",
      "(43, 2.4106744520911576)\n",
      "(44, 2.0507494398109074)\n",
      "(45, -6.9697841009018324)\n",
      "(46, 2.6205468673058148)\n",
      "(47, 0.67347429088757993)\n",
      "(48, -1.5944590903328983)\n",
      "(49, 2.8721228404312695)\n",
      "(50, 1.5400511159692509)\n",
      "(51, 2.9868080203334251)\n",
      "(52, -1.9401694169097088)\n",
      "(53, 0.79371010548963727)\n",
      "(54, 2.7948209786739877)\n",
      "(55, 2.0280455027200062)\n",
      "(56, -2.3580066155545216)\n",
      "(57, -5.6833097865166256)\n",
      "(58, 0.28873652180334225)\n",
      "(59, 1.8956847952513107)\n",
      "(60, 2.065120419500484)\n",
      "(61, 0.23793135201390897)\n",
      "(62, -1.3301951623925914)\n",
      "(63, 1.4344831307413282)\n",
      "(64, 0.94795515363491889)\n",
      "(65, 0.91740837047025203)\n",
      "(66, -0.89695068087738139)\n",
      "(67, -0.68819971315655615)\n",
      "(68, -0.54704646611594621)\n",
      "(69, 2.2086495996362578)\n",
      "(70, -0.13048961218328553)\n",
      "(71, -1.8674425656712825)\n",
      "(72, 1.3444073250281239)\n",
      "(73, -2.1782134541746396)\n",
      "(74, -2.2961199642568793)\n",
      "(75, 0.6984619821000505)\n",
      "(76, -4.3764827979399517)\n",
      "(77, -8.3406172079553063)\n",
      "(78, -2.0682183338159406)\n",
      "(79, 2.3815119363870019)\n",
      "(80, 1.1655069301020862)\n",
      "(81, 0.5476620489724342)\n",
      "(82, 3.2470617463750613)\n",
      "(83, 2.8961208122540323)\n",
      "(84, -0.47402327880310918)\n",
      "(85, 1.7868266666893076)\n",
      "(86, -1.7693913756756909)\n",
      "(87, -1.7702741675997231)\n",
      "(88, 0.89775676717350694)\n",
      "(89, -3.1810328284902054)\n",
      "(90, 2.1181014145138279)\n",
      "(91, -1.3386342780440137)\n",
      "(92, 2.1427839545628782)\n",
      "(93, 1.8376348921843786)\n",
      "(94, 2.1510268218740212)\n",
      "(95, 1.0173240535734944)\n",
      "(96, -1.8425423836463111)\n",
      "(97, -0.11910102658472807)\n",
      "(98, 2.5202557262926857)\n",
      "(99, -1.8124476642292242)\n",
      "(100, 1.3161634449279664)\n",
      "(101, 0.40850214772813576)\n",
      "(102, 2.1111115441499173)\n",
      "(103, -1.6537695205971346)\n",
      "(104, -1.143339352461032)\n",
      "(105, 2.4367552801672572)\n",
      "(106, 2.241556420033771)\n",
      "(107, 2.4260642442598797)\n",
      "(108, -0.11655543354404851)\n",
      "(109, 0.61768046617798955)\n",
      "(110, -5.4345792446292549)\n",
      "(111, -2.2738280956674091)\n",
      "(112, 2.5245390519681554)\n",
      "(113, 2.9765276492454462)\n",
      "(114, -1.6008375244563839)\n",
      "(115, -1.4917747119754206)\n",
      "(116, -1.9802624307891172)\n",
      "(117, -0.45729632178232738)\n",
      "(118, 0.31474988368769496)\n",
      "(119, -2.0424997985443429)\n",
      "(120, 1.0480281544673964)\n",
      "(121, 1.1549701057119113)\n",
      "(122, -1.9790070679193614)\n",
      "(123, -0.2979711710497433)\n",
      "(124, 2.7911170820138023)\n",
      "(125, 0.047174231720370316)\n",
      "(126, -1.7866445817960748)\n",
      "(127, 0.098011345576770006)\n",
      "(128, 2.078602019945643)\n",
      "(129, 2.4484920735224551)\n",
      "(130, -0.75810932871012626)\n",
      "(131, 2.2999241744398105)\n",
      "(132, -1.7186828887073309)\n",
      "(133, 1.3755590078028694)\n",
      "(134, 3.0729243016605623)\n",
      "(135, -3.3940137897330107)\n",
      "(136, 0.57449357047754135)\n",
      "(137, 2.3317608175273903)\n",
      "(138, 2.7074329454120951)\n",
      "(139, 3.0723078296426736)\n",
      "(140, 1.3997077584961128)\n",
      "(141, 2.4172860266274832)\n"
     ]
    }
   ],
   "source": [
    "count = 0\n",
    "for el in transformed:\n",
    "    print(count, el[0])\n",
    "    count += 1"
   ]
  },
  {
   "cell_type": "code",
   "execution_count": 383,
   "metadata": {
    "collapsed": false
   },
   "outputs": [
    {
     "data": {
      "image/png": "[encoded data removed]",
      "text/plain": [
       "<matplotlib.figure.Figure at 0x10bb71690>"
      ]
     },
     "metadata": {},
     "output_type": "display_data"
    }
   ],
   "source": [
    "plt.figure(figsize=(12, 8))\n",
    "sns.regplot(transformed[:, 0], transformed[:, 1], fit_reg=False)\n",
    "feature_vectors = pca.components_.T\n",
    "arrow_size, text_pos = 2.0, 2.5\n",
    "for i, v in enumerate(feature_vectors):\n",
    "    plt.arrow(0, 0, arrow_size*v[0], arrow_size*v[1], \n",
    "              head_width=0.05, head_length=0.1)\n",
    "    plt.text(v[0]*text_pos, v[1]*text_pos, ptest.columns[i], color='r', \n",
    "             ha='center', va='center', fontsize=10)\n",
    "plt.xlabel(\"PC1\", fontsize=14)\n",
    "plt.ylabel(\"PC2\", fontsize=14)\n",
    "plt.title(\"PC plane with original feature projections.\", fontsize=18)\n",
    "plt.show()"
   ]
  },
  {
   "cell_type": "code",
   "execution_count": null,
   "metadata": {
    "collapsed": true
   },
   "outputs": [],
   "source": []
  }
 ],
 "metadata": {
  "kernelspec": {
   "display_name": "Python 2",
   "language": "python",
   "name": "python2"
  },
  "language_info": {
   "codemirror_mode": {
    "name": "ipython",
    "version": 2
   },
   "file_extension": ".py",
   "mimetype": "text/x-python",
   "name": "python",
   "nbconvert_exporter": "python",
   "pygments_lexer": "ipython2",
   "version": "2.7.10"
  }
 },
 "nbformat": 4,
 "nbformat_minor": 0
}
