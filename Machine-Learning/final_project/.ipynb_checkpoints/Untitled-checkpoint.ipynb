{
 "cells": [
  {
   "cell_type": "code",
   "execution_count": 1,
   "metadata": {
    "collapsed": true
   },
   "outputs": [],
   "source": [
    "import pickle\n",
    "data_dict = pickle.load(open(\"final_project_dataset.pkl\", \"r\") )"
   ]
  },
  {
   "cell_type": "code",
   "execution_count": 3,
   "metadata": {
    "collapsed": false
   },
   "outputs": [],
   "source": [
    "import pandas as pd\n",
    "import numpy as np\n",
    "pdata = pd.DataFrame.from_dict(data_dict, orient='index')"
   ]
  },
  {
   "cell_type": "code",
   "execution_count": 4,
   "metadata": {
    "collapsed": false
   },
   "outputs": [],
   "source": [
    "pdata = pdata.replace('NaN', np.nan, regex=True)\n",
    "temp = []\n",
    "for el in pdata['email_address'].values:\n",
    "    if type(el) == float:\n",
    "        temp.append(False)\n",
    "    else:\n",
    "        temp.append(True)\n",
    "pdata['has_email_data'] = temp\n",
    "pdata['total_navalue_count'] = pdata.isnull().sum(axis=1)\n",
    "pdata['sal_navalue_count'] = pdata[['salary', 'deferral_payments', 'long_term_incentive', 'total_payments', 'bonus', 'expenses', 'loan_advances', 'other', 'director_fees', 'deferred_income']].isnull().sum(axis=1)\n",
    "pdata['stock_navalue_count'] = pdata[['exercised_stock_options', 'restricted_stock', 'total_stock_value']].isnull().sum(axis=1)\n",
    "pdata = pdata.drop('email_address', 1)\n",
    "pdata = pdata.replace(np.nan, 0, regex=True)\n",
    "pdata = pdata[pdata.index != 'TOTAL']\n",
    "pdata = pdata[pdata.index != 'SKILLING JEFFREY K']\n",
    "# pdata = pdata[pdata.index != 'LAY KENNETH L'] # took out during pca analysis\n",
    "# pdata = pdata[pdata.index != 'FREVERT MARK A'] # took out during pca analysis\n",
    "pdata = pdata[pdata.index != 'BELFER ROBERT']\n",
    "pdata = pdata[pdata.index != 'BHATNAGAR SANJAY']\n",
    "pdata['short_gain'] = pdata['exercised_stock_options'] - pdata['long_term_incentive']\n",
    "pdata['sal_ratio'] = pdata['salary'] / pdata['total_payments']\n",
    "pdata['nonsal_ratio'] = (pdata['bonus'] + pdata['long_term_incentive'] + pdata['expenses']) / pdata['total_payments']\n",
    "pdata['stock_ratio'] = pdata['restricted_stock'] / pdata['total_stock_value']\n",
    "pdata['em_ratio'] = (pdata['shared_receipt_with_poi'] + pdata['from_this_person_to_poi'] + pdata['from_poi_to_this_person'] ) / (pdata['to_messages'] + pdata['from_messages'])\n",
    "pdata['total_total'] = pdata['total_payments'] + pdata['total_stock_value']\n",
    "pdata['from_ratio'] = pdata['from_this_person_to_poi'] / pdata['from_messages']\n",
    "pdata['sent_ratio'] = (pdata['from_poi_to_this_person'] + pdata['shared_receipt_with_poi']) / pdata['to_messages']\n",
    "pdata['fromto_ratio'] = pdata['from_ratio'] + pdata['sent_ratio']\n",
    "pdata['bonusexpsal'] = pdata['bonus'] + pdata['expenses'] + pdata['salary']\n",
    "pdata['sal_def'] = pdata['salary'] + abs(pdata['deferred_income'])"
   ]
  },
  {
   "cell_type": "code",
   "execution_count": 5,
   "metadata": {
    "collapsed": true
   },
   "outputs": [],
   "source": [
    "pdata = pdata.replace(np.nan, 0, regex=True)\n",
    "pdata = pdata.replace(np.inf, 0, regex=True)\n",
    "pdata = pdata.replace(-np.inf, 0, regex=True)\n",
    "pdict = pdata.T.to_dict()"
   ]
  },
  {
   "cell_type": "code",
   "execution_count": 6,
   "metadata": {
    "collapsed": true
   },
   "outputs": [],
   "source": [
    "import sys\n",
    "sys.path.append(\"../tools/\")\n",
    "from feature_format import featureFormat, targetFeatureSplit"
   ]
  },
  {
   "cell_type": "code",
   "execution_count": 7,
   "metadata": {
    "collapsed": true
   },
   "outputs": [],
   "source": [
    "features_list = ['poi', 'salary', 'to_messages', 'deferral_payments', \n",
    "                 'total_payments', 'exercised_stock_options', \n",
    "                 'restricted_stock', 'shared_receipt_with_poi', 'restricted_stock_deferred', \n",
    "                 'total_stock_value', 'from_messages', 'deferred_income', \n",
    "                 'other', 'from_this_person_to_poi', 'director_fees',\n",
    "                 'long_term_incentive', 'from_poi_to_this_person',\n",
    "                 'sal_ratio', 'stock_ratio', 'bonusexpsal', 'nonsal_ratio', 'stock_navalue_count',\n",
    "                 'em_ratio', 'has_email_data', 'total_navalue_count',\n",
    "                 'total_total', 'short_gain', 'sal_navalue_count', 'fromto_ratio']\n",
    "# 'from_ratio', 'sent_ratio',"
   ]
  },
  {
   "cell_type": "code",
   "execution_count": 8,
   "metadata": {
    "collapsed": false
   },
   "outputs": [],
   "source": [
    "my_dataset = pdict\n",
    "data = featureFormat(my_dataset, features_list, sort_keys = True)\n",
    "labels, features = targetFeatureSplit(data)"
   ]
  },
  {
   "cell_type": "code",
   "execution_count": 9,
   "metadata": {
    "collapsed": true
   },
   "outputs": [],
   "source": [
    "from sklearn.preprocessing import MinMaxScaler\n",
    "from sklearn.preprocessing import StandardScaler\n",
    "scaler = MinMaxScaler()\n",
    "# scaler = StandardScaler()\n",
    "features = scaler.fit_transform(features)"
   ]
  },
  {
   "cell_type": "code",
   "execution_count": 10,
   "metadata": {
    "collapsed": true
   },
   "outputs": [],
   "source": [
    "from sklearn.cross_validation import train_test_split\n",
    "features_train, features_test, labels_train, labels_test = \\\n",
    "    train_test_split(features, labels, test_size=0.3, random_state=42)"
   ]
  },
  {
   "cell_type": "code",
   "execution_count": 11,
   "metadata": {
    "collapsed": false
   },
   "outputs": [
    {
     "name": "stdout",
     "output_type": "stream",
     "text": [
      "('salary', 6.4679679843454627)\n",
      "('shared_receipt_with_poi', 7.1818771442764069)\n",
      "('deferred_income', 17.17552763271879)\n",
      "('bonusexpsal', 9.559316692235166)\n",
      "('nonsal_ratio', 12.369312712856718)\n",
      "('em_ratio', 8.2832315549109197)\n",
      "('total_navalue_count', 7.558259797411444)\n",
      "('total_total', 4.1176785774775935)\n",
      "('sal_navalue_count', 11.707644067293582)\n",
      "('fromto_ratio', 11.269952240225802)\n"
     ]
    }
   ],
   "source": [
    "from sklearn.feature_selection import SelectKBest\n",
    "x_new = SelectKBest(k=10)\n",
    "x_new.fit_transform(features_train, labels_train)\n",
    "for i in range(len(x_new.scores_)):\n",
    "    if x_new.get_support()[i]:\n",
    "        print(features_list[i+1], x_new.scores_[i])\n",
    "best = []\n",
    "for i in range(len(x_new.get_support())):\n",
    "    if x_new.get_support()[i]:\n",
    "        best.append(features_list[i+1])"
   ]
  },
  {
   "cell_type": "code",
   "execution_count": 12,
   "metadata": {
    "collapsed": false
   },
   "outputs": [],
   "source": [
    "features_list = ['poi']\n",
    "for el in best:\n",
    "    features_list.append(el)"
   ]
  },
  {
   "cell_type": "code",
   "execution_count": 13,
   "metadata": {
    "collapsed": false
   },
   "outputs": [
    {
     "data": {
      "text/plain": [
       "['poi',\n",
       " 'salary',\n",
       " 'shared_receipt_with_poi',\n",
       " 'deferred_income',\n",
       " 'bonusexpsal',\n",
       " 'nonsal_ratio',\n",
       " 'em_ratio',\n",
       " 'total_navalue_count',\n",
       " 'total_total',\n",
       " 'sal_navalue_count',\n",
       " 'fromto_ratio']"
      ]
     },
     "execution_count": 13,
     "metadata": {},
     "output_type": "execute_result"
    }
   ],
   "source": [
    "features_list"
   ]
  },
  {
   "cell_type": "code",
   "execution_count": 14,
   "metadata": {
    "collapsed": true
   },
   "outputs": [],
   "source": [
    "features_list = ['poi',\n",
    " 'salary',\n",
    " 'shared_receipt_with_poi',\n",
    " 'deferred_income',\n",
    " 'bonusexpsal',\n",
    " 'em_ratio',\n",
    " 'total_navalue_count',\n",
    " 'total_total',\n",
    " 'sal_navalue_count',\n",
    " 'fromto_ratio']"
   ]
  },
  {
   "cell_type": "code",
   "execution_count": 15,
   "metadata": {
    "collapsed": false
   },
   "outputs": [],
   "source": [
    "my_dataset = pdict\n",
    "data = featureFormat(my_dataset, features_list, sort_keys = True)\n",
    "labels, features = targetFeatureSplit(data)"
   ]
  },
  {
   "cell_type": "code",
   "execution_count": 16,
   "metadata": {
    "collapsed": false
   },
   "outputs": [],
   "source": [
    "from sklearn.cross_validation import train_test_split\n",
    "features_train, features_test, labels_train, labels_test = \\\n",
    "    train_test_split(features, labels, test_size=0.4, random_state=42)"
   ]
  },
  {
   "cell_type": "code",
   "execution_count": 65,
   "metadata": {
    "collapsed": false
   },
   "outputs": [],
   "source": [
    "from sklearn.grid_search import GridSearchCV\n",
    "from sklearn.tree import DecisionTreeClassifier\n",
    "from sklearn.pipeline import Pipeline\n",
    "from sklearn.decomposition import PCA\n",
    "from sklearn.cross_validation import StratifiedShuffleSplit\n",
    "pipe_dtc = Pipeline([('scl', MinMaxScaler()),\n",
    "                     ('pca', PCA(n_components=2)),\n",
    "                     ('clf', DecisionTreeClassifier(random_state=None))])\n",
    "cv = StratifiedShuffleSplit(labels, n_iter=10)\n",
    "mss_range = [2, 10, 20, 30, 40, 50, 60]\n",
    "param_grid = [{'clf__min_samples_split': mss_range,\n",
    "               'pca__whiten': [False,True],\n",
    "               'clf__criterion': ['entropy', 'gini']}]\n",
    "gs = GridSearchCV(estimator=pipe_dtc,\n",
    "                  param_grid = param_grid,\n",
    "                  scoring = 'accuracy',\n",
    "                  cv = cv,\n",
    "                  n_jobs=-1)\n",
    "clf = gs.fit(features, labels)"
   ]
  },
  {
   "cell_type": "code",
   "execution_count": 66,
   "metadata": {
    "collapsed": false
   },
   "outputs": [
    {
     "name": "stdout",
     "output_type": "stream",
     "text": [
      "0.933333333333\n",
      "{'clf__criterion': 'gini', 'pca__whiten': False, 'clf__min_samples_split': 60}\n",
      "Pipeline(steps=[('scl', MinMaxScaler(copy=True, feature_range=(0, 1))), ('pca', PCA(copy=True, n_components=2, whiten=False)), ('clf', DecisionTreeClassifier(class_weight=None, criterion='gini', max_depth=None,\n",
      "            max_features=None, max_leaf_nodes=None, min_samples_leaf=1,\n",
      "            min_samples_split=60, min_weight_fraction_leaf=0.0,\n",
      "            random_state=None, splitter='best'))])\n"
     ]
    }
   ],
   "source": [
    "# print(clf.grid_scores_)\n",
    "print(clf.best_score_)\n",
    "print(clf.best_params_)\n",
    "print(clf.best_estimator_)"
   ]
  },
  {
   "cell_type": "code",
   "execution_count": 41,
   "metadata": {
    "collapsed": false
   },
   "outputs": [
    {
     "name": "stdout",
     "output_type": "stream",
     "text": [
      "Test accuracy: 0.895\n",
      "Test precision: 0.667\n",
      "Test recall: 0.500\n",
      "Test F1: 0.571\n"
     ]
    }
   ],
   "source": [
    "from sklearn.metrics import accuracy_score, f1_score, confusion_matrix, precision_score, recall_score\n",
    "print('Test accuracy: %.3f' % clf.score(features_test, labels_test))\n",
    "print('Test precision: %.3f' % precision_score(clf.predict(features_test), labels_test))\n",
    "print('Test recall: %.3f' % recall_score(clf.predict(features_test), labels_test))\n",
    "print('Test F1: %.3f' % f1_score(clf.predict(features_test), labels_test))"
   ]
  },
  {
   "cell_type": "code",
   "execution_count": 43,
   "metadata": {
    "collapsed": false
   },
   "outputs": [
    {
     "name": "stdout",
     "output_type": "stream",
     "text": [
      "             precision    recall  f1-score   support\n",
      "\n",
      "        0.0       0.97      0.97      0.97        38\n",
      "        1.0       0.80      0.80      0.80         5\n",
      "\n",
      "avg / total       0.95      0.95      0.95        43\n",
      "\n",
      "[[37  1]\n",
      " [ 1  4]]\n"
     ]
    }
   ],
   "source": [
    "from sklearn.metrics import classification_report\n",
    "print(classification_report(labels_test, clf.predict(features_test)))\n",
    "print(confusion_matrix(labels_test, clf.predict(features_test)))"
   ]
  },
  {
   "cell_type": "code",
   "execution_count": 44,
   "metadata": {
    "collapsed": false
   },
   "outputs": [
    {
     "name": "stdout",
     "output_type": "stream",
     "text": [
      "DecisionTreeClassifier(class_weight=None, criterion='gini', max_depth=None,\n",
      "            max_features=None, max_leaf_nodes=None, min_samples_leaf=1,\n",
      "            min_samples_split=40, min_weight_fraction_leaf=0.0,\n",
      "            random_state=1, splitter='best')\n",
      "[ 0.          0.          0.          0.67215885  0.          0.          0.\n",
      "  0.32784115  0.          0.        ]\n",
      "['poi', 'salary', 'shared_receipt_with_poi', 'deferred_income', 'bonusexpsal', 'nonsal_ratio', 'has_email_data', 'total_navalue_count', 'total_total', 'sal_navalue_count', 'fromto_ratio']\n",
      "0.627906976744\n"
     ]
    }
   ],
   "source": [
    "from sklearn import decomposition, preprocessing\n",
    "\n",
    "scaled_data = preprocessing.scale(features_train)\n",
    "\n",
    "dtc = DecisionTreeClassifier(criterion='gini',\n",
    "                             min_samples_split=40,\n",
    "                             random_state=1)\n",
    "\n",
    "dtc.fit(scaled_data, labels_train)\n",
    "\n",
    "print(dtc)\n",
    "print(dtc.feature_importances_)\n",
    "print(features_list)\n",
    "print(dtc.score(features_test, labels_test))\n"
   ]
  },
  {
   "cell_type": "code",
   "execution_count": 45,
   "metadata": {
    "collapsed": false
   },
   "outputs": [
    {
     "name": "stdout",
     "output_type": "stream",
     "text": [
      "[[-0.22201875 -0.20955126  0.10166622 -0.16442389 -0.05808132 -0.67139553\n",
      "   0.43282491 -0.04667339  0.31872267 -0.35239093]\n",
      " [ 0.23907386  0.18941267 -0.25893247  0.23398036  0.10247587 -0.6611344\n",
      "  -0.168508    0.07922985 -0.54351645  0.08655204]]\n",
      "['poi', 'salary', 'shared_receipt_with_poi', 'deferred_income', 'bonusexpsal', 'nonsal_ratio', 'has_email_data', 'total_navalue_count', 'total_total', 'sal_navalue_count', 'fromto_ratio']\n"
     ]
    }
   ],
   "source": [
    "print(clf.best_estimator_.named_steps['pca'].components_)\n",
    "print(features_list)"
   ]
  },
  {
   "cell_type": "code",
   "execution_count": 26,
   "metadata": {
    "collapsed": false
   },
   "outputs": [
    {
     "data": {
      "text/plain": [
       "-1.6653345369377348e-16"
      ]
     },
     "execution_count": 26,
     "metadata": {},
     "output_type": "execute_result"
    }
   ],
   "source": [
    "np.dot(clf.best_estimator_.named_steps['pca'].components_[0], clf.best_estimator_.named_steps['pca'].components_[1])"
   ]
  },
  {
   "cell_type": "code",
   "execution_count": 27,
   "metadata": {
    "collapsed": false
   },
   "outputs": [
    {
     "data": {
      "text/plain": [
       "array([ 0.57418128,  0.16803552])"
      ]
     },
     "execution_count": 27,
     "metadata": {},
     "output_type": "execute_result"
    }
   ],
   "source": [
    "clf.best_estimator_.named_steps['pca'].explained_variance_ratio_"
   ]
  },
  {
   "cell_type": "code",
   "execution_count": 28,
   "metadata": {
    "collapsed": false
   },
   "outputs": [
    {
     "data": {
      "text/plain": [
       "array([ 1.,  1.])"
      ]
     },
     "execution_count": 28,
     "metadata": {},
     "output_type": "execute_result"
    }
   ],
   "source": [
    "(clf.best_estimator_.named_steps['pca'].components_.T**2).sum(axis=0)"
   ]
  },
  {
   "cell_type": "code",
   "execution_count": 29,
   "metadata": {
    "collapsed": true
   },
   "outputs": [],
   "source": [
    "import matplotlib.pyplot as plt\n",
    "%matplotlib inline\n",
    "import seaborn as sns\n",
    "sns.set(color_codes=True)"
   ]
  },
  {
   "cell_type": "code",
   "execution_count": 30,
   "metadata": {
    "collapsed": false
   },
   "outputs": [
    {
     "ename": "NameError",
     "evalue": "name 'transformed' is not defined",
     "output_type": "error",
     "traceback": [
      "\u001b[0;31m---------------------------------------------------------------------------\u001b[0m",
      "\u001b[0;31mNameError\u001b[0m                                 Traceback (most recent call last)",
      "\u001b[0;32m<ipython-input-30-8ff0a68cd564>\u001b[0m in \u001b[0;36m<module>\u001b[0;34m()\u001b[0m\n\u001b[1;32m      1\u001b[0m \u001b[0mplt\u001b[0m\u001b[0;34m.\u001b[0m\u001b[0mfigure\u001b[0m\u001b[0;34m(\u001b[0m\u001b[0mfigsize\u001b[0m\u001b[0;34m=\u001b[0m\u001b[0;34m(\u001b[0m\u001b[0;36m12\u001b[0m\u001b[0;34m,\u001b[0m \u001b[0;36m8\u001b[0m\u001b[0;34m)\u001b[0m\u001b[0;34m)\u001b[0m\u001b[0;34m\u001b[0m\u001b[0m\n\u001b[0;32m----> 2\u001b[0;31m \u001b[0msns\u001b[0m\u001b[0;34m.\u001b[0m\u001b[0mregplot\u001b[0m\u001b[0;34m(\u001b[0m\u001b[0mtransformed\u001b[0m\u001b[0;34m[\u001b[0m\u001b[0;34m:\u001b[0m\u001b[0;34m,\u001b[0m \u001b[0;36m0\u001b[0m\u001b[0;34m]\u001b[0m\u001b[0;34m,\u001b[0m \u001b[0mtransformed\u001b[0m\u001b[0;34m[\u001b[0m\u001b[0;34m:\u001b[0m\u001b[0;34m,\u001b[0m \u001b[0;36m1\u001b[0m\u001b[0;34m]\u001b[0m\u001b[0;34m,\u001b[0m \u001b[0mfit_reg\u001b[0m\u001b[0;34m=\u001b[0m\u001b[0mFalse\u001b[0m\u001b[0;34m)\u001b[0m\u001b[0;34m\u001b[0m\u001b[0m\n\u001b[0m\u001b[1;32m      3\u001b[0m \u001b[0mfeature_vectors\u001b[0m \u001b[0;34m=\u001b[0m \u001b[0mclf\u001b[0m\u001b[0;34m.\u001b[0m\u001b[0mbest_estimator_\u001b[0m\u001b[0;34m.\u001b[0m\u001b[0mnamed_steps\u001b[0m\u001b[0;34m[\u001b[0m\u001b[0;34m'pca'\u001b[0m\u001b[0;34m]\u001b[0m\u001b[0;34m.\u001b[0m\u001b[0mcomponents_\u001b[0m\u001b[0;34m.\u001b[0m\u001b[0mT\u001b[0m\u001b[0;34m\u001b[0m\u001b[0m\n\u001b[1;32m      4\u001b[0m \u001b[0marrow_size\u001b[0m\u001b[0;34m,\u001b[0m \u001b[0mtext_pos\u001b[0m \u001b[0;34m=\u001b[0m \u001b[0;36m2.0\u001b[0m\u001b[0;34m,\u001b[0m \u001b[0;36m2.5\u001b[0m\u001b[0;34m\u001b[0m\u001b[0m\n\u001b[1;32m      5\u001b[0m \u001b[0;32mfor\u001b[0m \u001b[0mi\u001b[0m\u001b[0;34m,\u001b[0m \u001b[0mv\u001b[0m \u001b[0;32min\u001b[0m \u001b[0menumerate\u001b[0m\u001b[0;34m(\u001b[0m\u001b[0mfeature_vectors\u001b[0m\u001b[0;34m)\u001b[0m\u001b[0;34m:\u001b[0m\u001b[0;34m\u001b[0m\u001b[0m\n",
      "\u001b[0;31mNameError\u001b[0m: name 'transformed' is not defined"
     ]
    },
    {
     "data": {
      "text/plain": [
       "<matplotlib.figure.Figure at 0x10984e0d0>"
      ]
     },
     "metadata": {},
     "output_type": "display_data"
    }
   ],
   "source": [
    "plt.figure(figsize=(12, 8))\n",
    "sns.regplot(transformed[:, 0], transformed[:, 1], fit_reg=False)\n",
    "feature_vectors = clf.best_estimator_.named_steps['pca'].components_.T\n",
    "arrow_size, text_pos = 2.0, 2.5\n",
    "for i, v in enumerate(feature_vectors):\n",
    "    plt.arrow(0, 0, arrow_size*v[0], arrow_size*v[1], \n",
    "              head_width=0.05, head_length=0.1)\n",
    "    plt.text(v[0]*text_pos, v[1]*text_pos, features_list[i+1], color='r', \n",
    "             ha='center', va='center', fontsize=10)\n",
    "plt.xlabel(\"PC1\", fontsize=14)\n",
    "plt.ylabel(\"PC2\", fontsize=14)\n",
    "plt.title(\"PC plane with original feature projections.\", fontsize=18)\n",
    "plt.show()"
   ]
  },
  {
   "cell_type": "code",
   "execution_count": 31,
   "metadata": {
    "collapsed": false
   },
   "outputs": [
    {
     "data": {
      "text/plain": [
       "['poi',\n",
       " 'salary',\n",
       " 'shared_receipt_with_poi',\n",
       " 'deferred_income',\n",
       " 'bonusexpsal',\n",
       " 'nonsal_ratio',\n",
       " 'has_email_data',\n",
       " 'total_navalue_count',\n",
       " 'total_total',\n",
       " 'sal_navalue_count',\n",
       " 'fromto_ratio']"
      ]
     },
     "execution_count": 31,
     "metadata": {},
     "output_type": "execute_result"
    }
   ],
   "source": [
    "features_list"
   ]
  },
  {
   "cell_type": "code",
   "execution_count": 32,
   "metadata": {
    "collapsed": false
   },
   "outputs": [],
   "source": [
    "from sklearn import decomposition, preprocessing\n",
    "\n",
    "ptest = pdata[features_list[1:]]\n",
    "\n",
    "# ptest = pdata.drop(['poi'], axis=1)\n",
    " \n",
    "pca = PCA(n_components=2)\n",
    "\n",
    "scaled_data = preprocessing.scale(ptest)\n",
    "\n",
    "pca.fit(scaled_data)\n",
    "\n",
    "transformed = pca.transform(scaled_data)"
   ]
  },
  {
   "cell_type": "code",
   "execution_count": 33,
   "metadata": {
    "collapsed": false
   },
   "outputs": [
    {
     "data": {
      "text/plain": [
       "array([[ -3.80247811e+00,  -2.53421354e+00],\n",
       "       [  2.61839030e+00,  -3.79306105e-01],\n",
       "       [  9.55812194e-03,   6.24014455e-01],\n",
       "       [ -5.23123292e-01,  -1.65612730e+00],\n",
       "       [ -9.67709346e-02,  -1.77748732e-01],\n",
       "       [  1.90452245e+00,  -3.85163664e-01],\n",
       "       [ -1.02264803e+00,   6.22016834e-01],\n",
       "       [ -4.97890596e+00,  -8.77081204e-01],\n",
       "       [  1.19678680e+00,   4.09436045e-01],\n",
       "       [ -8.30039616e-01,  -3.79202746e-01],\n",
       "       [ -1.35917976e+00,   5.77635275e-01],\n",
       "       [ -1.75667227e+00,   6.47411121e-01],\n",
       "       [  2.34376163e+00,  -1.15869538e+00],\n",
       "       [ -2.12093419e+00,   5.84266738e-01],\n",
       "       [  1.10445844e+00,  -6.61867035e-02],\n",
       "       [ -3.01986091e-01,   1.06853758e-01],\n",
       "       [ -1.07875887e-01,  -8.83750527e-02],\n",
       "       [ -2.28910316e+00,   7.18417845e-02],\n",
       "       [ -2.04683555e+00,   2.43306841e-01],\n",
       "       [ -9.46682468e-01,   8.56002957e-02],\n",
       "       [ -2.21779340e+00,   4.63935753e-01],\n",
       "       [  2.82490982e+00,  -4.58616292e-01],\n",
       "       [  2.38593226e+00,   3.81477663e-01],\n",
       "       [  3.23841242e+00,  -3.03402484e-01],\n",
       "       [ -1.73473787e+00,   3.24076423e-01],\n",
       "       [  1.95724047e+00,   4.59211359e-01],\n",
       "       [ -1.03051854e+00,   2.62981942e-01],\n",
       "       [  1.21899073e+00,  -7.23540276e-01],\n",
       "       [ -9.43815966e-01,   2.90489412e-01],\n",
       "       [ -2.56719247e+00,   8.64236051e-01],\n",
       "       [ -3.04541636e+00,  -1.57292909e+00],\n",
       "       [ -6.14342410e-01,  -8.06937776e-01],\n",
       "       [ -1.52902582e+00,   5.82684690e-01],\n",
       "       [ -1.62120535e-01,   1.61486494e-01],\n",
       "       [ -4.74738869e-02,   4.07619511e-01],\n",
       "       [ -1.77964645e+00,   6.21368786e-02],\n",
       "       [  2.61299927e+00,  -3.93155221e-01],\n",
       "       [ -1.08619713e+00,   2.92715466e-01],\n",
       "       [  3.46047656e-01,  -1.53012367e-01],\n",
       "       [ -1.00017519e-01,  -1.18768469e+00],\n",
       "       [ -2.37754842e+00,   8.18410088e-01],\n",
       "       [ -1.36989280e+00,  -1.54756202e+00],\n",
       "       [ -1.06405052e+00,   4.49360280e-01],\n",
       "       [  1.99727026e+00,   4.50873230e-01],\n",
       "       [  1.63503628e+00,   3.82221871e-01],\n",
       "       [ -6.73758804e+00,  -1.27441671e+00],\n",
       "       [  2.85979161e+00,  -3.55787996e-01],\n",
       "       [  8.43370441e-01,  -6.01645702e-01],\n",
       "       [ -1.28604085e+00,   3.50547366e-01],\n",
       "       [  3.12081440e+00,  -2.58520481e-01],\n",
       "       [  1.20545960e+00,   1.27823840e-01],\n",
       "       [  3.24012057e+00,  -3.04680791e-01],\n",
       "       [ -1.46455730e+00,   5.85083974e-01],\n",
       "       [  2.97472684e-01,   2.11974766e-01],\n",
       "       [  3.03901202e+00,  -4.03662427e-01],\n",
       "       [  2.24661018e+00,  -6.25117835e-01],\n",
       "       [ -2.58014528e+00,  -1.59039444e-01],\n",
       "       [ -5.23778447e+00,  -8.68715610e+00],\n",
       "       [  6.20039325e-01,   4.88000744e-02],\n",
       "       [  1.57218069e+00,   4.00356886e-01],\n",
       "       [  1.80471812e+00,   5.43613590e-01],\n",
       "       [ -2.73099066e-01,  -2.43560638e-01],\n",
       "       [ -1.19800973e+00,   3.48198422e-01],\n",
       "       [  9.52854412e-01,   8.89315633e-02],\n",
       "       [  8.06265919e-01,   7.82661437e-01],\n",
       "       [  1.27066953e+00,   6.90684157e-01],\n",
       "       [ -3.92070899e-01,   8.11728346e-01],\n",
       "       [ -3.15562872e-01,   6.54060772e-01],\n",
       "       [ -5.55694355e-01,   4.42652493e-01],\n",
       "       [  2.43445995e+00,  -3.45790492e-01],\n",
       "       [ -5.98092880e-01,   2.53470115e-01],\n",
       "       [ -2.19984182e+00,   1.00791319e+00],\n",
       "       [  8.68427105e-01,   2.04041059e-01],\n",
       "       [ -2.32207452e+00,   1.01160908e+00],\n",
       "       [ -1.91385246e+00,   7.97791345e-01],\n",
       "       [  1.99289663e-01,   1.12420018e-01],\n",
       "       [ -4.51597973e+00,   1.61101114e+00],\n",
       "       [ -8.64392173e+00,   3.65520886e+00],\n",
       "       [ -1.67940509e+00,   7.25318720e-01],\n",
       "       [  2.61215852e+00,  -3.92526042e-01],\n",
       "       [  1.44909508e+00,   6.56687753e-01],\n",
       "       [  4.32320115e-02,   1.28828249e-01],\n",
       "       [  3.50770351e+00,  -3.75558727e-01],\n",
       "       [  3.14668342e+00,  -2.77879665e-01],\n",
       "       [ -7.38193114e-01,   4.31397030e-01],\n",
       "       [  1.66152365e+00,   5.78166442e-01],\n",
       "       [ -1.50082399e+00,   3.66662525e-01],\n",
       "       [ -1.90684244e+00,   7.28837654e-01],\n",
       "       [  1.26340337e+00,   7.10065196e-01],\n",
       "       [ -2.81210992e+00,   9.74387275e-01],\n",
       "       [  2.34802116e+00,  -1.14863756e+00],\n",
       "       [ -1.02780483e+00,   5.10987576e-01],\n",
       "       [  2.37298983e+00,  -1.08222224e+00],\n",
       "       [  1.46886791e+00,   4.45904715e-01],\n",
       "       [  1.89321154e+00,   4.76095122e-01],\n",
       "       [  5.31127595e-01,   7.74868786e-02],\n",
       "       [ -1.60080250e+00,  -4.77090012e-01],\n",
       "       [ -4.53887946e-01,   2.07377524e-01],\n",
       "       [  2.75600173e+00,  -3.21239370e-01],\n",
       "       [ -1.66097466e+00,   5.33312987e-01],\n",
       "       [  8.41665963e-01,   1.35008168e-02],\n",
       "       [ -1.18448230e-01,   6.19196217e-01],\n",
       "       [  2.34070932e+00,  -1.14356800e+00],\n",
       "       [ -1.48630206e+00,   9.09673473e-01],\n",
       "       [ -1.10494871e+00,   6.10947052e-01],\n",
       "       [  2.06426369e+00,   4.17809466e-01],\n",
       "       [  1.82082208e+00,   3.10770758e-01],\n",
       "       [  1.99186036e+00,   2.97532110e-01],\n",
       "       [  7.01574218e-02,   7.94695694e-01],\n",
       "       [  7.89320891e-01,  -8.95491547e-01],\n",
       "       [ -5.08664787e+00,  -6.30602280e+00],\n",
       "       [ -1.88378075e+00,   5.25301010e-01],\n",
       "       [  2.76013789e+00,  -5.42690348e-01],\n",
       "       [  2.56211195e+00,   2.92755847e-01],\n",
       "       [ -1.82370867e+00,   6.16962743e-01],\n",
       "       [ -1.72880842e+00,   1.01104762e+00],\n",
       "       [ -1.78616514e+00,   6.87417739e-01],\n",
       "       [ -5.31271331e-01,   6.14184971e-01],\n",
       "       [  8.50859178e-01,   8.05019437e-01],\n",
       "       [ -1.95849782e+00,   1.06252108e+00],\n",
       "       [  5.61876140e-01,   1.47112329e-01],\n",
       "       [  1.34223900e+00,  -6.70983019e-01],\n",
       "       [ -1.56064690e+00,   7.63951323e-01],\n",
       "       [ -3.02035090e-01,   4.49383307e-01],\n",
       "       [  3.03501934e+00,  -4.00674490e-01],\n",
       "       [ -2.38013654e-01,   4.45575403e-01],\n",
       "       [ -1.49089808e+00,  -6.39063700e-01],\n",
       "       [ -1.10168023e-02,   1.91355505e-01],\n",
       "       [  2.30609534e+00,  -1.05983864e+00],\n",
       "       [  2.68445794e+00,  -7.05643803e-01],\n",
       "       [ -1.02387631e+00,   3.39267067e-01],\n",
       "       [  2.53051301e+00,  -5.92284085e-01],\n",
       "       [ -1.43785391e+00,  -1.16447108e-01],\n",
       "       [  9.05333874e-01,  -1.65626882e-03],\n",
       "       [  3.32863042e+00,  -3.27794546e-01],\n",
       "       [ -3.38110433e+00,   1.34176147e+00],\n",
       "       [  5.86422630e-02,   5.29306432e-01],\n",
       "       [  2.55958968e+00,  -4.68984013e-01],\n",
       "       [  2.28220454e+00,   2.09620706e-01],\n",
       "       [  3.32796588e+00,  -3.27297238e-01],\n",
       "       [  9.19542190e-01,   4.16907351e-01],\n",
       "       [  2.65829918e+00,  -9.60062869e-01]])"
      ]
     },
     "execution_count": 33,
     "metadata": {},
     "output_type": "execute_result"
    }
   ],
   "source": [
    "transformed"
   ]
  },
  {
   "cell_type": "code",
   "execution_count": 34,
   "metadata": {
    "collapsed": false
   },
   "outputs": [
    {
     "name": "stdout",
     "output_type": "stream",
     "text": [
      "(0, -3.8024781124034295)\n",
      "(1, 2.6183903040180057)\n",
      "(2, 0.0095581219357625535)\n",
      "(3, -0.52312329183456652)\n",
      "(4, -0.096770934588055302)\n",
      "(5, 1.9045224483851209)\n",
      "(6, -1.0226480348557165)\n",
      "(7, -4.9789059569205696)\n",
      "(8, 1.1967868019567203)\n",
      "(9, -0.83003961554413297)\n",
      "(10, -1.3591797582215808)\n",
      "(11, -1.7566722656886165)\n",
      "(12, 2.3437616300822715)\n",
      "(13, -2.1209341927741159)\n",
      "(14, 1.1044584388007888)\n",
      "(15, -0.30198609121861786)\n",
      "(16, -0.10787588656455344)\n",
      "(17, -2.2891031631531127)\n",
      "(18, -2.0468355472381488)\n",
      "(19, -0.94668246844433668)\n",
      "(20, -2.2177933997746195)\n",
      "(21, 2.8249098211595265)\n",
      "(22, 2.3859322632570334)\n",
      "(23, 3.23841241612174)\n",
      "(24, -1.7347378688676114)\n",
      "(25, 1.9572404736606006)\n",
      "(26, -1.0305185352490285)\n",
      "(27, 1.2189907254903856)\n",
      "(28, -0.94381596647398514)\n",
      "(29, -2.5671924666637511)\n",
      "(30, -3.0454163578074533)\n",
      "(31, -0.61434240982736288)\n",
      "(32, -1.5290258174026579)\n",
      "(33, -0.1621205352101191)\n",
      "(34, -0.047473886882634819)\n",
      "(35, -1.7796464478274765)\n",
      "(36, 2.6129992664759198)\n",
      "(37, -1.086197133385139)\n",
      "(38, 0.3460476562445135)\n",
      "(39, -0.10001751916189122)\n",
      "(40, -2.3775484243203451)\n",
      "(41, -1.3698928017117409)\n",
      "(42, -1.0640505216616032)\n",
      "(43, 1.9972702624039966)\n",
      "(44, 1.6350362800190548)\n",
      "(45, -6.7375880418282055)\n",
      "(46, 2.8597916064392579)\n",
      "(47, 0.84337044101568504)\n",
      "(48, -1.2860408504536114)\n",
      "(49, 3.1208143962426407)\n",
      "(50, 1.2054596038085705)\n",
      "(51, 3.2401205736534049)\n",
      "(52, -1.4645572974826648)\n",
      "(53, 0.2974726840205289)\n",
      "(54, 3.0390120193032324)\n",
      "(55, 2.2466101813776378)\n",
      "(56, -2.5801452797139937)\n",
      "(57, -5.2377844693732776)\n",
      "(58, 0.62003932531730999)\n",
      "(59, 1.5721806860692717)\n",
      "(60, 1.8047181164254931)\n",
      "(61, -0.27309906594856209)\n",
      "(62, -1.1980097316389253)\n",
      "(63, 0.95285441184844544)\n",
      "(64, 0.80626591944034121)\n",
      "(65, 1.2706695258945424)\n",
      "(66, -0.39207089895854108)\n",
      "(67, -0.31556287231801777)\n",
      "(68, -0.55569435454168614)\n",
      "(69, 2.434459949300154)\n",
      "(70, -0.59809287956542845)\n",
      "(71, -2.1998418249359522)\n",
      "(72, 0.86842710490601926)\n",
      "(73, -2.3220745221398928)\n",
      "(74, -1.9138524642592103)\n",
      "(75, 0.19928966335696419)\n",
      "(76, -4.5159797266372861)\n",
      "(77, -8.6439217312417007)\n",
      "(78, -1.6794050885529446)\n",
      "(79, 2.6121585156044183)\n",
      "(80, 1.4490950813748493)\n",
      "(81, 0.043232011523020863)\n",
      "(82, 3.5077035096447249)\n",
      "(83, 3.1466834198159717)\n",
      "(84, -0.73819311434331336)\n",
      "(85, 1.6615236482278544)\n",
      "(86, -1.5008239866004176)\n",
      "(87, -1.9068424416758751)\n",
      "(88, 1.2634033731758187)\n",
      "(89, -2.8121099215095673)\n",
      "(90, 2.3480211616292572)\n",
      "(91, -1.027804825135237)\n",
      "(92, 2.3729898324902301)\n",
      "(93, 1.4688679127259441)\n",
      "(94, 1.893211540403974)\n",
      "(95, 0.5311275950657578)\n",
      "(96, -1.6008025033685751)\n",
      "(97, -0.45388794629551332)\n",
      "(98, 2.7560017290760861)\n",
      "(99, -1.6609746612624687)\n",
      "(100, 0.84166596288183859)\n",
      "(101, -0.11844822958982182)\n",
      "(102, 2.340709316946266)\n",
      "(103, -1.4863020557099806)\n",
      "(104, -1.1049487084007548)\n",
      "(105, 2.0642636881479541)\n",
      "(106, 1.8208220778733026)\n",
      "(107, 1.9918603562444595)\n",
      "(108, 0.070157421761813665)\n",
      "(109, 0.78932089127901617)\n",
      "(110, -5.0866478685076677)\n",
      "(111, -1.8837807484344813)\n",
      "(112, 2.76013788509756)\n",
      "(113, 2.5621119450281036)\n",
      "(114, -1.8237086719036675)\n",
      "(115, -1.7288084151948304)\n",
      "(116, -1.7861651375099177)\n",
      "(117, -0.53127133065043219)\n",
      "(118, 0.85085917787383436)\n",
      "(119, -1.9584978185362756)\n",
      "(120, 0.56187614026598864)\n",
      "(121, 1.3422390004583118)\n",
      "(122, -1.5606468965715186)\n",
      "(123, -0.30203509043693466)\n",
      "(124, 3.0350193406417536)\n",
      "(125, -0.23801365431515933)\n",
      "(126, -1.4908980769695912)\n",
      "(127, -0.011016802268366696)\n",
      "(128, 2.3060953366021106)\n",
      "(129, 2.6844579399067472)\n",
      "(130, -1.0238763066084711)\n",
      "(131, 2.5305130066564372)\n",
      "(132, -1.437853914138665)\n",
      "(133, 0.90533387410908617)\n",
      "(134, 3.328630418934126)\n",
      "(135, -3.3811043341883193)\n",
      "(136, 0.058642263042851084)\n",
      "(137, 2.559589680446551)\n",
      "(138, 2.2822045402662376)\n",
      "(139, 3.3279658823940865)\n",
      "(140, 0.91954219049986619)\n",
      "(141, 2.6582991848455446)\n"
     ]
    }
   ],
   "source": [
    "count = 0\n",
    "for el in transformed:\n",
    "    print(count, el[0])\n",
    "    count += 1"
   ]
  },
  {
   "cell_type": "code",
   "execution_count": 35,
   "metadata": {
    "collapsed": false
   },
   "outputs": [
    {
     "name": "stderr",
     "output_type": "stream",
     "text": [
      "/Users/frankcorrigan/anaconda3/envs/python2/lib/python2.7/site-packages/matplotlib/collections.py:590: FutureWarning: elementwise comparison failed; returning scalar instead, but in the future will perform elementwise comparison\n",
      "  if self._edgecolors == str('face'):\n"
     ]
    },
    {
     "data": {
      "image/png": "[encoded data removed]",
      "text/plain": [
       "<matplotlib.figure.Figure at 0x1099014d0>"
      ]
     },
     "metadata": {},
     "output_type": "display_data"
    }
   ],
   "source": [
    "plt.figure(figsize=(12, 8))\n",
    "sns.regplot(transformed[:, 0], transformed[:, 1], fit_reg=False)\n",
    "feature_vectors = pca.components_.T\n",
    "arrow_size, text_pos = 2.0, 2.5\n",
    "for i, v in enumerate(feature_vectors):\n",
    "    plt.arrow(0, 0, arrow_size*v[0], arrow_size*v[1], \n",
    "              head_width=0.05, head_length=0.1)\n",
    "    plt.text(v[0]*text_pos, v[1]*text_pos, ptest.columns[i], color='r', \n",
    "             ha='center', va='center', fontsize=10)\n",
    "plt.xlabel(\"PC1\", fontsize=14)\n",
    "plt.ylabel(\"PC2\", fontsize=14)\n",
    "plt.title(\"PC plane with original feature projections.\", fontsize=18)\n",
    "plt.show()"
   ]
  },
  {
   "cell_type": "code",
   "execution_count": null,
   "metadata": {
    "collapsed": true
   },
   "outputs": [],
   "source": []
  }
 ],
 "metadata": {
  "kernelspec": {
   "display_name": "Python 2",
   "language": "python",
   "name": "python2"
  },
  "language_info": {
   "codemirror_mode": {
    "name": "ipython",
    "version": 2
   },
   "file_extension": ".py",
   "mimetype": "text/x-python",
   "name": "python",
   "nbconvert_exporter": "python",
   "pygments_lexer": "ipython2",
   "version": "2.7.10"
  }
 },
 "nbformat": 4,
 "nbformat_minor": 0
}
