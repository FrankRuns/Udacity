{
 "cells": [
  {
   "cell_type": "code",
   "execution_count": 14,
   "metadata": {
    "collapsed": false
   },
   "outputs": [],
   "source": [
    "import datetime\n",
    "import ast\n",
    "%matplotlib inline\n",
    "import matplotlib.pyplot as plt\n",
    "import pandas as pd"
   ]
  },
  {
   "cell_type": "code",
   "execution_count": 6,
   "metadata": {
    "collapsed": false
   },
   "outputs": [],
   "source": [
    "# open raw data file from api collector & read data to object split by line\n",
    "rfile = open('/Users/frankcorrigan/Repositories/Udacity/Visualize-Data/uber_vis/data/raw_uberdata_fromapi.txt', 'r')\n",
    "data = rfile.read()\n",
    "data = data.split('\\n')"
   ]
  },
  {
   "cell_type": "code",
   "execution_count": 8,
   "metadata": {
    "collapsed": false
   },
   "outputs": [
    {
     "name": "stdout",
     "output_type": "stream",
     "text": [
      "# of objects = 2008\n"
     ]
    }
   ],
   "source": [
    "# print '# of objects = ' + str(len(data))\n",
    "# data"
   ]
  },
  {
   "cell_type": "code",
   "execution_count": 7,
   "metadata": {
    "collapsed": false
   },
   "outputs": [],
   "source": [
    "# create array of dates as strings (which will need to be converted to datetime objects)\n",
    "dates = []\n",
    "for el in data:\n",
    "    end = el.find(':')\n",
    "    date = el[1:end]\n",
    "    dates.append(date)"
   ]
  },
  {
   "cell_type": "code",
   "execution_count": 11,
   "metadata": {
    "collapsed": false
   },
   "outputs": [
    {
     "data": {
      "text/plain": [
       "['datetime.datetime(2016, 1, 24, 11, 0, 0, 36883)',\n",
       " 'datetime.datetime(2016, 1, 24, 11, 5, 1, 893519)',\n",
       " 'datetime.datetime(2016, 1, 24, 11, 10, 2, 953438)']"
      ]
     },
     "execution_count": 11,
     "metadata": {},
     "output_type": "execute_result"
    }
   ],
   "source": [
    "# dates"
   ]
  },
  {
   "cell_type": "code",
   "execution_count": 9,
   "metadata": {
    "collapsed": true
   },
   "outputs": [],
   "source": [
    "# to transform string date to datetime object\n",
    "def mod_date(date):\n",
    "    s = date.find('(')\n",
    "    e = date.rfind(',')\n",
    "    just_date = date[s+1:e]\n",
    "    just_date = just_date.strip().split(',')\n",
    "    dat = [int(x) for x in just_date]\n",
    "    return datetime.datetime(dat[0], dat[1], dat[2], dat[3], dat[4], dat[5])"
   ]
  },
  {
   "cell_type": "code",
   "execution_count": 10,
   "metadata": {
    "collapsed": false
   },
   "outputs": [],
   "source": [
    "# transform dates array to array of datetime objects\n",
    "dates = [mod_date(x) for x in dates]"
   ]
  },
  {
   "cell_type": "code",
   "execution_count": 12,
   "metadata": {
    "collapsed": false
   },
   "outputs": [],
   "source": [
    "# dates"
   ]
  },
  {
   "cell_type": "code",
   "execution_count": 13,
   "metadata": {
    "collapsed": false
   },
   "outputs": [
    {
     "name": "stdout",
     "output_type": "stream",
     "text": [
      "2016-01-24 13:00:00\n",
      "2016-01-31 12:58:26\n"
     ]
    }
   ],
   "source": [
    "# view start and end date and time\n",
    "# print min(dates)\n",
    "# print max(dates)"
   ]
  },
  {
   "cell_type": "code",
   "execution_count": 15,
   "metadata": {
    "collapsed": false
   },
   "outputs": [],
   "source": [
    "# need to pull data out of txt string\n",
    "obs = []\n",
    "for el in data:\n",
    "    start = el.find(':') + 2\n",
    "    temp = el[start:-1]\n",
    "    temp = ast.literal_eval(temp)\n",
    "    obs.append(temp)"
   ]
  },
  {
   "cell_type": "code",
   "execution_count": 17,
   "metadata": {
    "collapsed": false
   },
   "outputs": [],
   "source": [
    "# obs[0]['prices']"
   ]
  },
  {
   "cell_type": "code",
   "execution_count": 18,
   "metadata": {
    "collapsed": false
   },
   "outputs": [],
   "source": [
    "# finally need to create array of surge pricing from prior created data objects\n",
    "sms = []\n",
    "for ob in obs:\n",
    "    smult = ob['prices'][0]['surge_multiplier']\n",
    "    sms.append(smult)"
   ]
  },
  {
   "cell_type": "code",
   "execution_count": 19,
   "metadata": {
    "collapsed": false
   },
   "outputs": [
    {
     "data": {
      "image/png": "[encoded data removed]",
      "text/plain": [
       "<matplotlib.figure.Figure at 0x1080fab10>"
      ]
     },
     "metadata": {},
     "output_type": "display_data"
    }
   ],
   "source": [
    "# to make sure are data is 'reasonable'\n",
    "# plt.plot(dates, sms)\n",
    "# plt.show()"
   ]
  },
  {
   "cell_type": "code",
   "execution_count": 176,
   "metadata": {
    "collapsed": false
   },
   "outputs": [],
   "source": [
    "# Is the surge rate the same for different types of services (x, black, lux, etc.)\n",
    "# for ob in obs:\n",
    "#     count = 0\n",
    "#     for price in ob['prices']:\n",
    "#         if count == 0:\n",
    "#             surge = price['surge_multiplier']\n",
    "#             if surge > 1.0:\n",
    "#                 print surge\n",
    "#         else:\n",
    "#             if price['surge_multiplier'] != surge:\n",
    "#                 print 'surge rates are different at this time between products'\n",
    "# Effectively telling me when surge occurs, all products(uberX, uberXL, uberBlack, etc. all have same surge rate)"
   ]
  },
  {
   "cell_type": "code",
   "execution_count": 20,
   "metadata": {
    "collapsed": true
   },
   "outputs": [],
   "source": [
    "# put data into pandas dataframe for easy export\n",
    "pdfDict = {'date': dates,\n",
    "           'surge': sms}\n",
    "pdf = pd.DataFrame(pdfDict)"
   ]
  },
  {
   "cell_type": "code",
   "execution_count": 22,
   "metadata": {
    "collapsed": false
   },
   "outputs": [],
   "source": [
    "# pdf.head()"
   ]
  },
  {
   "cell_type": "code",
   "execution_count": 23,
   "metadata": {
    "collapsed": false
   },
   "outputs": [],
   "source": [
    "# we can grab datetime variables while we are here\n",
    "pdf['dayofweek'] = map(lambda x: x.weekday(), pdf['date'])\n",
    "# Monday is 0 just as an fyi\n",
    "pdf['dayofmonth'] = map(lambda x: x.day, pdf['date'])\n",
    "pdf['hourofday'] = map(lambda x: x.hour, pdf['date'])\n",
    "pdf['minuteofhour'] = map(lambda x: x.minute, pdf['date'])\n",
    "pdf['minuteofday'] = (pdf['hourofday'] * 60) + pdf['minuteofhour']"
   ]
  },
  {
   "cell_type": "code",
   "execution_count": 25,
   "metadata": {
    "collapsed": false
   },
   "outputs": [],
   "source": [
    "# print pdf"
   ]
  },
  {
   "cell_type": "code",
   "execution_count": 27,
   "metadata": {
    "collapsed": true
   },
   "outputs": [],
   "source": [
    "pdf.to_csv('surge_data_forRanalysis.csv')"
   ]
  }
 ],
 "metadata": {
  "kernelspec": {
   "display_name": "Python 2",
   "language": "python",
   "name": "python2"
  },
  "language_info": {
   "codemirror_mode": {
    "name": "ipython",
    "version": 2
   },
   "file_extension": ".py",
   "mimetype": "text/x-python",
   "name": "python",
   "nbconvert_exporter": "python",
   "pygments_lexer": "ipython2",
   "version": "2.7.11"
  }
 },
 "nbformat": 4,
 "nbformat_minor": 0
}
