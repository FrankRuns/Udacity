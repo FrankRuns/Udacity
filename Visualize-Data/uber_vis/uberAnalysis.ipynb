{
 "cells": [
  {
   "cell_type": "code",
   "execution_count": 1,
   "metadata": {
    "collapsed": false
   },
   "outputs": [],
   "source": [
    "import datetime\n",
    "# import time\n",
    "# import ast\n",
    "%matplotlib inline\n",
    "import matplotlib.pyplot as plt\n",
    "import pandas as pd\n",
    "import ast"
   ]
  },
  {
   "cell_type": "code",
   "execution_count": 2,
   "metadata": {
    "collapsed": true
   },
   "outputs": [],
   "source": [
    "rfile = open('uberData2.txt', 'r')"
   ]
  },
  {
   "cell_type": "code",
   "execution_count": 3,
   "metadata": {
    "collapsed": true
   },
   "outputs": [],
   "source": [
    "data = rfile.read()"
   ]
  },
  {
   "cell_type": "code",
   "execution_count": 4,
   "metadata": {
    "collapsed": true
   },
   "outputs": [],
   "source": [
    "data = data.split('\\n')"
   ]
  },
  {
   "cell_type": "code",
   "execution_count": 5,
   "metadata": {
    "collapsed": false
   },
   "outputs": [
    {
     "name": "stdout",
     "output_type": "stream",
     "text": [
      "# of objects = 2008\n"
     ]
    }
   ],
   "source": [
    "# print '# of objects = ' + str(len(data))\n",
    "# data"
   ]
  },
  {
   "cell_type": "code",
   "execution_count": 6,
   "metadata": {
    "collapsed": false
   },
   "outputs": [],
   "source": [
    "dates = []\n",
    "for el in data:\n",
    "    end = el.find(':')\n",
    "    date = el[1:end]\n",
    "    dates.append(date)"
   ]
  },
  {
   "cell_type": "code",
   "execution_count": 11,
   "metadata": {
    "collapsed": false
   },
   "outputs": [
    {
     "data": {
      "text/plain": [
       "['datetime.datetime(2016, 1, 24, 11, 0, 0, 36883)',\n",
       " 'datetime.datetime(2016, 1, 24, 11, 5, 1, 893519)',\n",
       " 'datetime.datetime(2016, 1, 24, 11, 10, 2, 953438)']"
      ]
     },
     "execution_count": 11,
     "metadata": {},
     "output_type": "execute_result"
    }
   ],
   "source": [
    "# dates"
   ]
  },
  {
   "cell_type": "code",
   "execution_count": 7,
   "metadata": {
    "collapsed": true
   },
   "outputs": [],
   "source": [
    "# to make string datetime object\n",
    "def mod_date(date):\n",
    "    s = date.find('(')\n",
    "    e = date.rfind(',')\n",
    "    just_date = date[s+1:e]\n",
    "    just_date = just_date.strip().split(',')\n",
    "    dat = [int(x) for x in just_date]\n",
    "    return datetime.datetime(dat[0], dat[1], dat[2], dat[3], dat[4], dat[5])"
   ]
  },
  {
   "cell_type": "code",
   "execution_count": 8,
   "metadata": {
    "collapsed": false
   },
   "outputs": [],
   "source": [
    "# transform dates array to array of datetime objects\n",
    "dates = [mod_date(x) for x in dates]"
   ]
  },
  {
   "cell_type": "code",
   "execution_count": 14,
   "metadata": {
    "collapsed": false
   },
   "outputs": [
    {
     "data": {
      "text/plain": [
       "[datetime.datetime(2016, 1, 24, 11, 0),\n",
       " datetime.datetime(2016, 1, 24, 11, 5, 1),\n",
       " datetime.datetime(2016, 1, 24, 11, 10, 2)]"
      ]
     },
     "execution_count": 14,
     "metadata": {},
     "output_type": "execute_result"
    }
   ],
   "source": [
    "# dates"
   ]
  },
  {
   "cell_type": "code",
   "execution_count": 9,
   "metadata": {
    "collapsed": false
   },
   "outputs": [
    {
     "name": "stdout",
     "output_type": "stream",
     "text": [
      "2016-01-24 13:00:00\n",
      "2016-01-31 12:58:26\n"
     ]
    }
   ],
   "source": [
    "# view start and end date and time\n",
    "print min(dates)\n",
    "print max(dates)"
   ]
  },
  {
   "cell_type": "code",
   "execution_count": 10,
   "metadata": {
    "collapsed": false
   },
   "outputs": [],
   "source": [
    "obs = []\n",
    "for el in data:\n",
    "    start = el.find(':') + 2\n",
    "    temp = el[start:-1]\n",
    "    temp = ast.literal_eval(temp)\n",
    "    obs.append(temp)"
   ]
  },
  {
   "cell_type": "code",
   "execution_count": 20,
   "metadata": {
    "collapsed": false
   },
   "outputs": [
    {
     "data": {
      "text/plain": [
       "[{u'currency_code': u'USD',\n",
       "  u'display_name': u'uberX',\n",
       "  u'distance': 2.21,\n",
       "  u'duration': 840,\n",
       "  u'estimate': u'$24-31',\n",
       "  u'high_estimate': 31,\n",
       "  u'localized_display_name': u'uberX',\n",
       "  u'low_estimate': 24,\n",
       "  u'minimum': 8,\n",
       "  u'product_id': u'b8e5c464-5de2-4539-a35a-986d6e58f186',\n",
       "  u'surge_multiplier': 2},\n",
       " {u'currency_code': u'USD',\n",
       "  u'display_name': u'uberXL',\n",
       "  u'distance': 2.21,\n",
       "  u'duration': 840,\n",
       "  u'estimate': u'$37-47',\n",
       "  u'high_estimate': 47,\n",
       "  u'localized_display_name': u'uberXL',\n",
       "  u'low_estimate': 37,\n",
       "  u'minimum': 12,\n",
       "  u'product_id': u'1e0ce2df-4a1e-4333-86dd-dc0c67aaabe1',\n",
       "  u'surge_multiplier': 2},\n",
       " {u'currency_code': u'USD',\n",
       "  u'display_name': u'uberFAMILY',\n",
       "  u'distance': 2.21,\n",
       "  u'duration': 840,\n",
       "  u'estimate': u'$44-51',\n",
       "  u'high_estimate': 51,\n",
       "  u'localized_display_name': u'uberFAMILY',\n",
       "  u'low_estimate': 44,\n",
       "  u'minimum': 18,\n",
       "  u'product_id': u'd6d6d7ad-67f9-43ef-a8de-86bd6224613a',\n",
       "  u'surge_multiplier': 2},\n",
       " {u'currency_code': u'USD',\n",
       "  u'display_name': u'UberBLACK',\n",
       "  u'distance': 2.21,\n",
       "  u'duration': 840,\n",
       "  u'estimate': u'$22-28',\n",
       "  u'high_estimate': 28,\n",
       "  u'localized_display_name': u'UberBLACK',\n",
       "  u'low_estimate': 22,\n",
       "  u'minimum': 15,\n",
       "  u'product_id': u'0e9d8dd3-ffec-4c2b-9714-537e6174bb88',\n",
       "  u'surge_multiplier': 1.0},\n",
       " {u'currency_code': u'USD',\n",
       "  u'display_name': u'UberSUV',\n",
       "  u'distance': 2.21,\n",
       "  u'duration': 840,\n",
       "  u'estimate': u'$33-40',\n",
       "  u'high_estimate': 40,\n",
       "  u'localized_display_name': u'UberSUV',\n",
       "  u'low_estimate': 33,\n",
       "  u'minimum': 25,\n",
       "  u'product_id': u'56487469-0d3d-4f19-b662-234b7576a562',\n",
       "  u'surge_multiplier': 1.0},\n",
       " {u'currency_code': u'USD',\n",
       "  u'display_name': u'Yellow WAV',\n",
       "  u'distance': 2.21,\n",
       "  u'duration': 840,\n",
       "  u'estimate': u'$0',\n",
       "  u'high_estimate': 0,\n",
       "  u'localized_display_name': u'Yellow WAV',\n",
       "  u'low_estimate': 0,\n",
       "  u'minimum': 0,\n",
       "  u'product_id': u'1864554f-7796-4043-82d4-883ddde1070a',\n",
       "  u'surge_multiplier': 1.0},\n",
       " {u'currency_code': None,\n",
       "  u'display_name': u'uberT',\n",
       "  u'distance': 2.21,\n",
       "  u'duration': 840,\n",
       "  u'estimate': u'Metered',\n",
       "  u'high_estimate': None,\n",
       "  u'localized_display_name': u'uberT',\n",
       "  u'low_estimate': None,\n",
       "  u'minimum': None,\n",
       "  u'product_id': u'ebe413ab-cf49-465f-8564-a71119bfa449',\n",
       "  u'surge_multiplier': 1.0}]"
      ]
     },
     "execution_count": 20,
     "metadata": {},
     "output_type": "execute_result"
    }
   ],
   "source": [
    "obs[0]['prices']"
   ]
  },
  {
   "cell_type": "code",
   "execution_count": 11,
   "metadata": {
    "collapsed": false
   },
   "outputs": [],
   "source": [
    "sms = []\n",
    "for ob in obs:\n",
    "    smult = ob['prices'][0]['surge_multiplier']\n",
    "    sms.append(smult)"
   ]
  },
  {
   "cell_type": "code",
   "execution_count": 12,
   "metadata": {
    "collapsed": false
   },
   "outputs": [
    {
     "data": {
      "image/png": "[encoded data removed]",
      "text/plain": [
       "<matplotlib.figure.Figure at 0x107842e10>"
      ]
     },
     "metadata": {},
     "output_type": "display_data"
    }
   ],
   "source": [
    "plt.plot(dates, sms)\n",
    "plt.show()"
   ]
  },
  {
   "cell_type": "code",
   "execution_count": 176,
   "metadata": {
    "collapsed": false
   },
   "outputs": [],
   "source": [
    "# for ob in obs:\n",
    "#     count = 0\n",
    "#     for price in ob['prices']:\n",
    "#         if count == 0:\n",
    "#             surge = price['surge_multiplier']\n",
    "#             if surge > 1.0:\n",
    "#                 print surge\n",
    "#         else:\n",
    "#             if price['surge_multiplier'] != surge:\n",
    "#                 print 'surge rates are different at this time between products'\n",
    "# Effectively telling me when surge occurs, all products(uberX, uberXL, uberBlack, etc. all have same surge rate)"
   ]
  },
  {
   "cell_type": "code",
   "execution_count": 13,
   "metadata": {
    "collapsed": true
   },
   "outputs": [],
   "source": [
    "pdfDict = {'date': dates,\n",
    "           'surge': sms}\n",
    "pdf = pd.DataFrame(pdfDict)"
   ]
  },
  {
   "cell_type": "code",
   "execution_count": 14,
   "metadata": {
    "collapsed": false
   },
   "outputs": [
    {
     "data": {
      "text/html": [
       "<div>\n",
       "<table border=\"1\" class=\"dataframe\">\n",
       "  <thead>\n",
       "    <tr style=\"text-align: right;\">\n",
       "      <th></th>\n",
       "      <th>date</th>\n",
       "      <th>surge</th>\n",
       "    </tr>\n",
       "  </thead>\n",
       "  <tbody>\n",
       "    <tr>\n",
       "      <th>0</th>\n",
       "      <td>2016-01-24 13:00:00</td>\n",
       "      <td>1.0</td>\n",
       "    </tr>\n",
       "    <tr>\n",
       "      <th>1</th>\n",
       "      <td>2016-01-24 13:05:01</td>\n",
       "      <td>1.0</td>\n",
       "    </tr>\n",
       "    <tr>\n",
       "      <th>2</th>\n",
       "      <td>2016-01-24 13:10:02</td>\n",
       "      <td>1.3</td>\n",
       "    </tr>\n",
       "    <tr>\n",
       "      <th>3</th>\n",
       "      <td>2016-01-24 13:15:03</td>\n",
       "      <td>1.8</td>\n",
       "    </tr>\n",
       "    <tr>\n",
       "      <th>4</th>\n",
       "      <td>2016-01-24 13:20:05</td>\n",
       "      <td>1.0</td>\n",
       "    </tr>\n",
       "  </tbody>\n",
       "</table>\n",
       "</div>"
      ],
      "text/plain": [
       "                 date  surge\n",
       "0 2016-01-24 13:00:00    1.0\n",
       "1 2016-01-24 13:05:01    1.0\n",
       "2 2016-01-24 13:10:02    1.3\n",
       "3 2016-01-24 13:15:03    1.8\n",
       "4 2016-01-24 13:20:05    1.0"
      ]
     },
     "execution_count": 14,
     "metadata": {},
     "output_type": "execute_result"
    }
   ],
   "source": [
    "pdf.head()"
   ]
  },
  {
   "cell_type": "code",
   "execution_count": 24,
   "metadata": {
    "collapsed": false
   },
   "outputs": [],
   "source": [
    "pdf['dayofweek'] = map(lambda x: x.weekday(), pdf['date'])\n",
    "# Monday is 0\n",
    "pdf['dayofmonth'] = map(lambda x: x.day, pdf['date'])\n",
    "pdf['hourofday'] = map(lambda x: x.hour, pdf['date'])\n",
    "pdf['minuteofhour'] = map(lambda x: x.minute, pdf['date'])\n",
    "pdf['minuteofday'] = (pdf['hourofday'] * 60) + pdf['minuteofhour']"
   ]
  },
  {
   "cell_type": "code",
   "execution_count": 25,
   "metadata": {
    "collapsed": false
   },
   "outputs": [
    {
     "name": "stdout",
     "output_type": "stream",
     "text": [
      "                    date  surge  dayofweek  hourofday  minuteofhour  \\\n",
      "0    2016-01-24 13:00:00    1.0          6         13             0   \n",
      "1    2016-01-24 13:05:01    1.0          6         13             5   \n",
      "2    2016-01-24 13:10:02    1.3          6         13            10   \n",
      "3    2016-01-24 13:15:03    1.8          6         13            15   \n",
      "4    2016-01-24 13:20:05    1.0          6         13            20   \n",
      "5    2016-01-24 13:25:06    1.0          6         13            25   \n",
      "6    2016-01-24 13:30:07    1.4          6         13            30   \n",
      "7    2016-01-24 13:35:09    1.2          6         13            35   \n",
      "8    2016-01-24 13:40:10    1.0          6         13            40   \n",
      "9    2016-01-24 13:45:11    1.0          6         13            45   \n",
      "10   2016-01-24 13:50:12    1.0          6         13            50   \n",
      "11   2016-01-24 13:55:14    1.0          6         13            55   \n",
      "12   2016-01-24 14:00:15    1.0          6         14             0   \n",
      "13   2016-01-24 14:05:16    1.0          6         14             5   \n",
      "14   2016-01-24 14:10:18    1.0          6         14            10   \n",
      "15   2016-01-24 14:15:19    1.0          6         14            15   \n",
      "16   2016-01-24 14:20:20    1.0          6         14            20   \n",
      "17   2016-01-24 14:25:21    1.0          6         14            25   \n",
      "18   2016-01-24 14:30:23    1.0          6         14            30   \n",
      "19   2016-01-24 14:35:24    1.2          6         14            35   \n",
      "20   2016-01-24 14:40:25    1.0          6         14            40   \n",
      "21   2016-01-24 14:45:26    1.0          6         14            45   \n",
      "22   2016-01-24 14:50:28    1.0          6         14            50   \n",
      "23   2016-01-24 14:55:29    1.0          6         14            55   \n",
      "24   2016-01-24 15:00:30    1.0          6         15             0   \n",
      "25   2016-01-24 15:05:31    1.0          6         15             5   \n",
      "26   2016-01-24 15:10:33    1.0          6         15            10   \n",
      "27   2016-01-24 15:15:34    1.0          6         15            15   \n",
      "28   2016-01-24 15:20:35    1.0          6         15            20   \n",
      "29   2016-01-24 15:25:36    1.0          6         15            25   \n",
      "...                  ...    ...        ...        ...           ...   \n",
      "1978 2016-01-31 10:32:49    1.0          6         10            32   \n",
      "1979 2016-01-31 10:37:50    1.0          6         10            37   \n",
      "1980 2016-01-31 10:42:52    1.0          6         10            42   \n",
      "1981 2016-01-31 10:47:53    1.2          6         10            47   \n",
      "1982 2016-01-31 10:52:54    1.0          6         10            52   \n",
      "1983 2016-01-31 10:57:55    1.0          6         10            57   \n",
      "1984 2016-01-31 11:02:56    1.0          6         11             2   \n",
      "1985 2016-01-31 11:07:57    1.0          6         11             7   \n",
      "1986 2016-01-31 11:12:59    1.0          6         11            12   \n",
      "1987 2016-01-31 11:18:00    1.0          6         11            18   \n",
      "1988 2016-01-31 11:23:01    1.0          6         11            23   \n",
      "1989 2016-01-31 11:28:02    1.0          6         11            28   \n",
      "1990 2016-01-31 11:33:04    1.0          6         11            33   \n",
      "1991 2016-01-31 11:38:05    1.0          6         11            38   \n",
      "1992 2016-01-31 11:43:07    1.0          6         11            43   \n",
      "1993 2016-01-31 11:48:09    1.0          6         11            48   \n",
      "1994 2016-01-31 11:53:10    1.0          6         11            53   \n",
      "1995 2016-01-31 11:58:11    1.0          6         11            58   \n",
      "1996 2016-01-31 12:03:12    1.0          6         12             3   \n",
      "1997 2016-01-31 12:08:14    1.0          6         12             8   \n",
      "1998 2016-01-31 12:13:15    1.0          6         12            13   \n",
      "1999 2016-01-31 12:18:16    1.0          6         12            18   \n",
      "2000 2016-01-31 12:23:17    1.0          6         12            23   \n",
      "2001 2016-01-31 12:28:19    1.0          6         12            28   \n",
      "2002 2016-01-31 12:33:20    1.0          6         12            33   \n",
      "2003 2016-01-31 12:38:21    1.0          6         12            38   \n",
      "2004 2016-01-31 12:43:22    1.0          6         12            43   \n",
      "2005 2016-01-31 12:48:23    1.0          6         12            48   \n",
      "2006 2016-01-31 12:53:24    1.0          6         12            53   \n",
      "2007 2016-01-31 12:58:26    1.0          6         12            58   \n",
      "\n",
      "      minuteofday  dayofmonth  \n",
      "0             780          24  \n",
      "1             785          24  \n",
      "2             790          24  \n",
      "3             795          24  \n",
      "4             800          24  \n",
      "5             805          24  \n",
      "6             810          24  \n",
      "7             815          24  \n",
      "8             820          24  \n",
      "9             825          24  \n",
      "10            830          24  \n",
      "11            835          24  \n",
      "12            840          24  \n",
      "13            845          24  \n",
      "14            850          24  \n",
      "15            855          24  \n",
      "16            860          24  \n",
      "17            865          24  \n",
      "18            870          24  \n",
      "19            875          24  \n",
      "20            880          24  \n",
      "21            885          24  \n",
      "22            890          24  \n",
      "23            895          24  \n",
      "24            900          24  \n",
      "25            905          24  \n",
      "26            910          24  \n",
      "27            915          24  \n",
      "28            920          24  \n",
      "29            925          24  \n",
      "...           ...         ...  \n",
      "1978          632          31  \n",
      "1979          637          31  \n",
      "1980          642          31  \n",
      "1981          647          31  \n",
      "1982          652          31  \n",
      "1983          657          31  \n",
      "1984          662          31  \n",
      "1985          667          31  \n",
      "1986          672          31  \n",
      "1987          678          31  \n",
      "1988          683          31  \n",
      "1989          688          31  \n",
      "1990          693          31  \n",
      "1991          698          31  \n",
      "1992          703          31  \n",
      "1993          708          31  \n",
      "1994          713          31  \n",
      "1995          718          31  \n",
      "1996          723          31  \n",
      "1997          728          31  \n",
      "1998          733          31  \n",
      "1999          738          31  \n",
      "2000          743          31  \n",
      "2001          748          31  \n",
      "2002          753          31  \n",
      "2003          758          31  \n",
      "2004          763          31  \n",
      "2005          768          31  \n",
      "2006          773          31  \n",
      "2007          778          31  \n",
      "\n",
      "[2008 rows x 7 columns]\n"
     ]
    },
    {
     "data": {
      "image/png": "[encoded data removed]",
      "text/plain": [
       "<matplotlib.figure.Figure at 0x10a7737d0>"
      ]
     },
     "metadata": {},
     "output_type": "display_data"
    }
   ],
   "source": [
    "print pdf\n",
    "plt.plot(pdf['minuteofday'], pdf['surge'])\n",
    "plt.show()"
   ]
  },
  {
   "cell_type": "code",
   "execution_count": 26,
   "metadata": {
    "collapsed": true
   },
   "outputs": [],
   "source": [
    "pdf.to_csv('surge.csv')"
   ]
  },
  {
   "cell_type": "code",
   "execution_count": null,
   "metadata": {
    "collapsed": true
   },
   "outputs": [],
   "source": [
    "# new pdf will have columns as day of the week. Sunday, Monday, Tuesday, etc...\n",
    "# the index will be minute of day. 0, 5, 10, 15, etc...\n",
    "# and then populate each row with approp data for each day of week.\n",
    "# essentially, each row is the surge rate for that minute of day for each day of the week!"
   ]
  }
 ],
 "metadata": {
  "kernelspec": {
   "display_name": "Python 2",
   "language": "python",
   "name": "python2"
  },
  "language_info": {
   "codemirror_mode": {
    "name": "ipython",
    "version": 2
   },
   "file_extension": ".py",
   "mimetype": "text/x-python",
   "name": "python",
   "nbconvert_exporter": "python",
   "pygments_lexer": "ipython2",
   "version": "2.7.11"
  }
 },
 "nbformat": 4,
 "nbformat_minor": 0
}
